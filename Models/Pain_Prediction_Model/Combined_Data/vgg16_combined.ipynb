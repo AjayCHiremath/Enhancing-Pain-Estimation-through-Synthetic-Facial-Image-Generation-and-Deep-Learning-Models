{
 "cells": [
  {
   "cell_type": "code",
   "execution_count": 5,
   "metadata": {},
   "outputs": [],
   "source": [
    "from tensorflow.keras.applications import VGG16\n",
    "from tensorflow.keras.models import Model\n",
    "from tensorflow.keras.layers import Dense, Dropout, Flatten, Input, Conv2D, MaxPooling2D, GlobalAveragePooling2D, BatchNormalization\n",
    "from tensorflow.keras.optimizers import SGD\n",
    "from tensorflow.keras.preprocessing.image import ImageDataGenerator\n",
    "from tensorflow.keras.callbacks import EarlyStopping, ReduceLROnPlateau, ModelCheckpoint\n",
    "from sklearn.metrics import classification_report, confusion_matrix\n",
    "from tensorflow.keras.regularizers import l2\n",
    "import pandas as pd\n",
    "import matplotlib.pyplot as plt\n",
    "import numpy as np"
   ]
  },
  {
   "cell_type": "code",
   "execution_count": 2,
   "metadata": {},
   "outputs": [],
   "source": [
    "# Define the data augmentation and preprocessing pipeline\n",
    "data_aug = ImageDataGenerator(\n",
    "    rescale=1./255,                     # Normalize pixel values to [0, 1] range\n",
    "    horizontal_flip=True,               # Randomly flip images horizontally\n",
    "    fill_mode='nearest',                # Fill in missing pixels after transformations using nearest neighbor interpolation\n",
    ")"
   ]
  },
  {
   "cell_type": "code",
   "execution_count": 3,
   "metadata": {},
   "outputs": [],
   "source": [
    "# Paths to directories\n",
    "directory = 'C:/Users/psxah20/Desktop/Dissertation/Predictive_Images_Synthetic_Only/'\n",
    "img_width_height = 224  # Updated to match the paper's input size\n",
    "batch_size = 224"
   ]
  },
  {
   "cell_type": "code",
   "execution_count": 4,
   "metadata": {},
   "outputs": [
    {
     "name": "stdout",
     "output_type": "stream",
     "text": [
      "Found 8861 images belonging to 5 classes.\n",
      "Found 988 images belonging to 5 classes.\n"
     ]
    }
   ],
   "source": [
    "# Load the training and testing data\n",
    "train_data = data_aug.flow_from_directory(\n",
    "    directory + 'Train/',\n",
    "    target_size=(img_width_height, img_width_height),\n",
    "    color_mode='rgb',\n",
    "    class_mode='categorical',\n",
    "    batch_size=batch_size,\n",
    "    shuffle=True,\n",
    "    interpolation='nearest',\n",
    ")\n",
    "\n",
    "test_data = data_aug.flow_from_directory(\n",
    "    directory + 'Test/',\n",
    "    target_size=(img_width_height, img_width_height),\n",
    "    color_mode='rgb',\n",
    "    class_mode='categorical',\n",
    "    batch_size=batch_size,\n",
    "    shuffle=True,\n",
    "    interpolation='nearest',\n",
    ")"
   ]
  },
  {
   "cell_type": "code",
   "execution_count": 5,
   "metadata": {},
   "outputs": [],
   "source": [
    "# Define the VGG16-based model with modifications\n",
    "def build_vgg16_model(input_shape, output_size=6):\n",
    "    # Load the VGG16 model with pretrained ImageNet weights, excluding the top fully connected layers\n",
    "    base_model = VGG16(weights='imagenet', include_top=False, input_shape=input_shape)\n",
    "    \n",
    "    # Unfreeze the last few layers for fine-tuning\n",
    "    for layer in base_model.layers[:-8]:  # Unfreeze more layers for better fine-tuning\n",
    "        layer.trainable = False\n",
    "    for layer in base_model.layers[-8:]:\n",
    "        layer.trainable = True\n",
    "    \n",
    "    # Input layer for full face\n",
    "    input_full_face = Input(shape=input_shape)\n",
    "    x_full_face = base_model(input_full_face)\n",
    "    \n",
    "    # Add a Global Average Pooling layer\n",
    "    x = GlobalAveragePooling2D()(x_full_face)\n",
    "    \n",
    "    # Define a shallow CNN for further processing with Batch Normalization\n",
    "    x = Dense(256, activation='relu', kernel_regularizer=l2(0.01))(x)\n",
    "    x = BatchNormalization()(x)\n",
    "    x = Dropout(0.5)(x)\n",
    "    x = Dense(128, activation='relu', kernel_regularizer=l2(0.01))(x)\n",
    "    x = BatchNormalization()(x)\n",
    "    x = Dropout(0.5)(x)\n",
    "    \n",
    "    # Add a softmax output layer\n",
    "    output = Dense(output_size, activation='softmax')(x)\n",
    "    \n",
    "    # Create the final model\n",
    "    model = Model(inputs=input_full_face, outputs=output)\n",
    "    \n",
    "    return model"
   ]
  },
  {
   "cell_type": "code",
   "execution_count": 6,
   "metadata": {},
   "outputs": [
    {
     "data": {
      "text/html": [
       "<pre style=\"white-space:pre;overflow-x:auto;line-height:normal;font-family:Menlo,'DejaVu Sans Mono',consolas,'Courier New',monospace\"><span style=\"font-weight: bold\">Model: \"functional\"</span>\n",
       "</pre>\n"
      ],
      "text/plain": [
       "\u001b[1mModel: \"functional\"\u001b[0m\n"
      ]
     },
     "metadata": {},
     "output_type": "display_data"
    },
    {
     "data": {
      "text/html": [
       "<pre style=\"white-space:pre;overflow-x:auto;line-height:normal;font-family:Menlo,'DejaVu Sans Mono',consolas,'Courier New',monospace\">┏━━━━━━━━━━━━━━━━━━━━━━━━━━━━━━━━━┳━━━━━━━━━━━━━━━━━━━━━━━━┳━━━━━━━━━━━━━━━┓\n",
       "┃<span style=\"font-weight: bold\"> Layer (type)                    </span>┃<span style=\"font-weight: bold\"> Output Shape           </span>┃<span style=\"font-weight: bold\">       Param # </span>┃\n",
       "┡━━━━━━━━━━━━━━━━━━━━━━━━━━━━━━━━━╇━━━━━━━━━━━━━━━━━━━━━━━━╇━━━━━━━━━━━━━━━┩\n",
       "│ input_layer_1 (<span style=\"color: #0087ff; text-decoration-color: #0087ff\">InputLayer</span>)      │ (<span style=\"color: #00d7ff; text-decoration-color: #00d7ff\">None</span>, <span style=\"color: #00af00; text-decoration-color: #00af00\">224</span>, <span style=\"color: #00af00; text-decoration-color: #00af00\">224</span>, <span style=\"color: #00af00; text-decoration-color: #00af00\">3</span>)    │             <span style=\"color: #00af00; text-decoration-color: #00af00\">0</span> │\n",
       "├─────────────────────────────────┼────────────────────────┼───────────────┤\n",
       "│ vgg16 (<span style=\"color: #0087ff; text-decoration-color: #0087ff\">Functional</span>)              │ (<span style=\"color: #00d7ff; text-decoration-color: #00d7ff\">None</span>, <span style=\"color: #00af00; text-decoration-color: #00af00\">7</span>, <span style=\"color: #00af00; text-decoration-color: #00af00\">7</span>, <span style=\"color: #00af00; text-decoration-color: #00af00\">512</span>)      │    <span style=\"color: #00af00; text-decoration-color: #00af00\">14,714,688</span> │\n",
       "├─────────────────────────────────┼────────────────────────┼───────────────┤\n",
       "│ global_average_pooling2d        │ (<span style=\"color: #00d7ff; text-decoration-color: #00d7ff\">None</span>, <span style=\"color: #00af00; text-decoration-color: #00af00\">512</span>)            │             <span style=\"color: #00af00; text-decoration-color: #00af00\">0</span> │\n",
       "│ (<span style=\"color: #0087ff; text-decoration-color: #0087ff\">GlobalAveragePooling2D</span>)        │                        │               │\n",
       "├─────────────────────────────────┼────────────────────────┼───────────────┤\n",
       "│ dense (<span style=\"color: #0087ff; text-decoration-color: #0087ff\">Dense</span>)                   │ (<span style=\"color: #00d7ff; text-decoration-color: #00d7ff\">None</span>, <span style=\"color: #00af00; text-decoration-color: #00af00\">256</span>)            │       <span style=\"color: #00af00; text-decoration-color: #00af00\">131,328</span> │\n",
       "├─────────────────────────────────┼────────────────────────┼───────────────┤\n",
       "│ batch_normalization             │ (<span style=\"color: #00d7ff; text-decoration-color: #00d7ff\">None</span>, <span style=\"color: #00af00; text-decoration-color: #00af00\">256</span>)            │         <span style=\"color: #00af00; text-decoration-color: #00af00\">1,024</span> │\n",
       "│ (<span style=\"color: #0087ff; text-decoration-color: #0087ff\">BatchNormalization</span>)            │                        │               │\n",
       "├─────────────────────────────────┼────────────────────────┼───────────────┤\n",
       "│ dropout (<span style=\"color: #0087ff; text-decoration-color: #0087ff\">Dropout</span>)               │ (<span style=\"color: #00d7ff; text-decoration-color: #00d7ff\">None</span>, <span style=\"color: #00af00; text-decoration-color: #00af00\">256</span>)            │             <span style=\"color: #00af00; text-decoration-color: #00af00\">0</span> │\n",
       "├─────────────────────────────────┼────────────────────────┼───────────────┤\n",
       "│ dense_1 (<span style=\"color: #0087ff; text-decoration-color: #0087ff\">Dense</span>)                 │ (<span style=\"color: #00d7ff; text-decoration-color: #00d7ff\">None</span>, <span style=\"color: #00af00; text-decoration-color: #00af00\">128</span>)            │        <span style=\"color: #00af00; text-decoration-color: #00af00\">32,896</span> │\n",
       "├─────────────────────────────────┼────────────────────────┼───────────────┤\n",
       "│ batch_normalization_1           │ (<span style=\"color: #00d7ff; text-decoration-color: #00d7ff\">None</span>, <span style=\"color: #00af00; text-decoration-color: #00af00\">128</span>)            │           <span style=\"color: #00af00; text-decoration-color: #00af00\">512</span> │\n",
       "│ (<span style=\"color: #0087ff; text-decoration-color: #0087ff\">BatchNormalization</span>)            │                        │               │\n",
       "├─────────────────────────────────┼────────────────────────┼───────────────┤\n",
       "│ dropout_1 (<span style=\"color: #0087ff; text-decoration-color: #0087ff\">Dropout</span>)             │ (<span style=\"color: #00d7ff; text-decoration-color: #00d7ff\">None</span>, <span style=\"color: #00af00; text-decoration-color: #00af00\">128</span>)            │             <span style=\"color: #00af00; text-decoration-color: #00af00\">0</span> │\n",
       "├─────────────────────────────────┼────────────────────────┼───────────────┤\n",
       "│ dense_2 (<span style=\"color: #0087ff; text-decoration-color: #0087ff\">Dense</span>)                 │ (<span style=\"color: #00d7ff; text-decoration-color: #00d7ff\">None</span>, <span style=\"color: #00af00; text-decoration-color: #00af00\">5</span>)              │           <span style=\"color: #00af00; text-decoration-color: #00af00\">645</span> │\n",
       "└─────────────────────────────────┴────────────────────────┴───────────────┘\n",
       "</pre>\n"
      ],
      "text/plain": [
       "┏━━━━━━━━━━━━━━━━━━━━━━━━━━━━━━━━━┳━━━━━━━━━━━━━━━━━━━━━━━━┳━━━━━━━━━━━━━━━┓\n",
       "┃\u001b[1m \u001b[0m\u001b[1mLayer (type)                   \u001b[0m\u001b[1m \u001b[0m┃\u001b[1m \u001b[0m\u001b[1mOutput Shape          \u001b[0m\u001b[1m \u001b[0m┃\u001b[1m \u001b[0m\u001b[1m      Param #\u001b[0m\u001b[1m \u001b[0m┃\n",
       "┡━━━━━━━━━━━━━━━━━━━━━━━━━━━━━━━━━╇━━━━━━━━━━━━━━━━━━━━━━━━╇━━━━━━━━━━━━━━━┩\n",
       "│ input_layer_1 (\u001b[38;5;33mInputLayer\u001b[0m)      │ (\u001b[38;5;45mNone\u001b[0m, \u001b[38;5;34m224\u001b[0m, \u001b[38;5;34m224\u001b[0m, \u001b[38;5;34m3\u001b[0m)    │             \u001b[38;5;34m0\u001b[0m │\n",
       "├─────────────────────────────────┼────────────────────────┼───────────────┤\n",
       "│ vgg16 (\u001b[38;5;33mFunctional\u001b[0m)              │ (\u001b[38;5;45mNone\u001b[0m, \u001b[38;5;34m7\u001b[0m, \u001b[38;5;34m7\u001b[0m, \u001b[38;5;34m512\u001b[0m)      │    \u001b[38;5;34m14,714,688\u001b[0m │\n",
       "├─────────────────────────────────┼────────────────────────┼───────────────┤\n",
       "│ global_average_pooling2d        │ (\u001b[38;5;45mNone\u001b[0m, \u001b[38;5;34m512\u001b[0m)            │             \u001b[38;5;34m0\u001b[0m │\n",
       "│ (\u001b[38;5;33mGlobalAveragePooling2D\u001b[0m)        │                        │               │\n",
       "├─────────────────────────────────┼────────────────────────┼───────────────┤\n",
       "│ dense (\u001b[38;5;33mDense\u001b[0m)                   │ (\u001b[38;5;45mNone\u001b[0m, \u001b[38;5;34m256\u001b[0m)            │       \u001b[38;5;34m131,328\u001b[0m │\n",
       "├─────────────────────────────────┼────────────────────────┼───────────────┤\n",
       "│ batch_normalization             │ (\u001b[38;5;45mNone\u001b[0m, \u001b[38;5;34m256\u001b[0m)            │         \u001b[38;5;34m1,024\u001b[0m │\n",
       "│ (\u001b[38;5;33mBatchNormalization\u001b[0m)            │                        │               │\n",
       "├─────────────────────────────────┼────────────────────────┼───────────────┤\n",
       "│ dropout (\u001b[38;5;33mDropout\u001b[0m)               │ (\u001b[38;5;45mNone\u001b[0m, \u001b[38;5;34m256\u001b[0m)            │             \u001b[38;5;34m0\u001b[0m │\n",
       "├─────────────────────────────────┼────────────────────────┼───────────────┤\n",
       "│ dense_1 (\u001b[38;5;33mDense\u001b[0m)                 │ (\u001b[38;5;45mNone\u001b[0m, \u001b[38;5;34m128\u001b[0m)            │        \u001b[38;5;34m32,896\u001b[0m │\n",
       "├─────────────────────────────────┼────────────────────────┼───────────────┤\n",
       "│ batch_normalization_1           │ (\u001b[38;5;45mNone\u001b[0m, \u001b[38;5;34m128\u001b[0m)            │           \u001b[38;5;34m512\u001b[0m │\n",
       "│ (\u001b[38;5;33mBatchNormalization\u001b[0m)            │                        │               │\n",
       "├─────────────────────────────────┼────────────────────────┼───────────────┤\n",
       "│ dropout_1 (\u001b[38;5;33mDropout\u001b[0m)             │ (\u001b[38;5;45mNone\u001b[0m, \u001b[38;5;34m128\u001b[0m)            │             \u001b[38;5;34m0\u001b[0m │\n",
       "├─────────────────────────────────┼────────────────────────┼───────────────┤\n",
       "│ dense_2 (\u001b[38;5;33mDense\u001b[0m)                 │ (\u001b[38;5;45mNone\u001b[0m, \u001b[38;5;34m5\u001b[0m)              │           \u001b[38;5;34m645\u001b[0m │\n",
       "└─────────────────────────────────┴────────────────────────┴───────────────┘\n"
      ]
     },
     "metadata": {},
     "output_type": "display_data"
    },
    {
     "data": {
      "text/html": [
       "<pre style=\"white-space:pre;overflow-x:auto;line-height:normal;font-family:Menlo,'DejaVu Sans Mono',consolas,'Courier New',monospace\"><span style=\"font-weight: bold\"> Total params: </span><span style=\"color: #00af00; text-decoration-color: #00af00\">14,881,093</span> (56.77 MB)\n",
       "</pre>\n"
      ],
      "text/plain": [
       "\u001b[1m Total params: \u001b[0m\u001b[38;5;34m14,881,093\u001b[0m (56.77 MB)\n"
      ]
     },
     "metadata": {},
     "output_type": "display_data"
    },
    {
     "data": {
      "text/html": [
       "<pre style=\"white-space:pre;overflow-x:auto;line-height:normal;font-family:Menlo,'DejaVu Sans Mono',consolas,'Courier New',monospace\"><span style=\"font-weight: bold\"> Trainable params: </span><span style=\"color: #00af00; text-decoration-color: #00af00\">13,144,837</span> (50.14 MB)\n",
       "</pre>\n"
      ],
      "text/plain": [
       "\u001b[1m Trainable params: \u001b[0m\u001b[38;5;34m13,144,837\u001b[0m (50.14 MB)\n"
      ]
     },
     "metadata": {},
     "output_type": "display_data"
    },
    {
     "data": {
      "text/html": [
       "<pre style=\"white-space:pre;overflow-x:auto;line-height:normal;font-family:Menlo,'DejaVu Sans Mono',consolas,'Courier New',monospace\"><span style=\"font-weight: bold\"> Non-trainable params: </span><span style=\"color: #00af00; text-decoration-color: #00af00\">1,736,256</span> (6.62 MB)\n",
       "</pre>\n"
      ],
      "text/plain": [
       "\u001b[1m Non-trainable params: \u001b[0m\u001b[38;5;34m1,736,256\u001b[0m (6.62 MB)\n"
      ]
     },
     "metadata": {},
     "output_type": "display_data"
    }
   ],
   "source": [
    "# Set the input shape and number of classes\n",
    "img_width_height = 224  # Define image width and height, adjust as necessary\n",
    "input_shape = (img_width_height, img_width_height, 3)\n",
    "num_classes = len(train_data.class_indices)\n",
    "\n",
    "# Build the model\n",
    "model = build_vgg16_model(input_shape, output_size=num_classes)\n",
    "\n",
    "# Compile the model with SGD optimizer\n",
    "model.compile(optimizer=SGD(learning_rate=0.001, momentum=0.9),  # Using momentum to accelerate SGD\n",
    "              loss='categorical_crossentropy', \n",
    "              metrics=['accuracy'])\n",
    "\n",
    "# Print the model summary\n",
    "model.summary()"
   ]
  },
  {
   "cell_type": "code",
   "execution_count": 8,
   "metadata": {},
   "outputs": [],
   "source": [
    "# Callbacks for early stopping, learning rate reduction, and model checkpointing\n",
    "early_stop = EarlyStopping(monitor='val_loss', patience=10, verbose=1, mode='min', restore_best_weights=True)\n",
    "reduce_lr = ReduceLROnPlateau(monitor='val_loss', factor=0.2, patience=5, min_lr=0.001, verbose=1)\n",
    "model_checkpoint = ModelCheckpoint('vgg16_best_model.keras', monitor='val_accuracy', save_best_only=True)"
   ]
  },
  {
   "cell_type": "code",
   "execution_count": null,
   "metadata": {},
   "outputs": [],
   "source": [
    "# Fit the model\n",
    "history = model.fit(\n",
    "    train_data, \n",
    "    epochs=50, \n",
    "    validation_data=test_data, \n",
    "    callbacks=[early_stop, reduce_lr, model_checkpoint],\n",
    "    batch_size=32,  # Adjust batch size if needed\n",
    "    verbose=1\n",
    ")"
   ]
  },
  {
   "cell_type": "code",
   "execution_count": 3,
   "metadata": {},
   "outputs": [
    {
     "data": {
      "text/html": [
       "<div>\n",
       "<style scoped>\n",
       "    .dataframe tbody tr th:only-of-type {\n",
       "        vertical-align: middle;\n",
       "    }\n",
       "\n",
       "    .dataframe tbody tr th {\n",
       "        vertical-align: top;\n",
       "    }\n",
       "\n",
       "    .dataframe thead th {\n",
       "        text-align: right;\n",
       "    }\n",
       "</style>\n",
       "<table border=\"1\" class=\"dataframe\">\n",
       "  <thead>\n",
       "    <tr style=\"text-align: right;\">\n",
       "      <th></th>\n",
       "      <th>accuracy</th>\n",
       "      <th>loss</th>\n",
       "      <th>val_accuracy</th>\n",
       "      <th>val_loss</th>\n",
       "      <th>learning_rate</th>\n",
       "    </tr>\n",
       "  </thead>\n",
       "  <tbody>\n",
       "    <tr>\n",
       "      <th>0</th>\n",
       "      <td>0.752184</td>\n",
       "      <td>1.834895</td>\n",
       "      <td>0.758621</td>\n",
       "      <td>1.191518</td>\n",
       "      <td>0.0010</td>\n",
       "    </tr>\n",
       "    <tr>\n",
       "      <th>1</th>\n",
       "      <td>0.810680</td>\n",
       "      <td>1.375040</td>\n",
       "      <td>0.818621</td>\n",
       "      <td>1.036741</td>\n",
       "      <td>0.0010</td>\n",
       "    </tr>\n",
       "    <tr>\n",
       "      <th>2</th>\n",
       "      <td>0.855340</td>\n",
       "      <td>1.126667</td>\n",
       "      <td>0.865862</td>\n",
       "      <td>0.889936</td>\n",
       "      <td>0.0010</td>\n",
       "    </tr>\n",
       "    <tr>\n",
       "      <th>3</th>\n",
       "      <td>0.890583</td>\n",
       "      <td>0.998719</td>\n",
       "      <td>0.895862</td>\n",
       "      <td>0.705449</td>\n",
       "      <td>0.0010</td>\n",
       "    </tr>\n",
       "    <tr>\n",
       "      <th>4</th>\n",
       "      <td>0.925825</td>\n",
       "      <td>0.857255</td>\n",
       "      <td>0.928621</td>\n",
       "      <td>0.617595</td>\n",
       "      <td>0.0010</td>\n",
       "    </tr>\n",
       "    <tr>\n",
       "      <th>5</th>\n",
       "      <td>0.956602</td>\n",
       "      <td>0.717202</td>\n",
       "      <td>0.958621</td>\n",
       "      <td>0.556612</td>\n",
       "      <td>0.0010</td>\n",
       "    </tr>\n",
       "    <tr>\n",
       "      <th>6</th>\n",
       "      <td>0.975534</td>\n",
       "      <td>0.593995</td>\n",
       "      <td>0.978759</td>\n",
       "      <td>0.493914</td>\n",
       "      <td>0.0002</td>\n",
       "    </tr>\n",
       "    <tr>\n",
       "      <th>7</th>\n",
       "      <td>0.987379</td>\n",
       "      <td>0.480227</td>\n",
       "      <td>0.988862</td>\n",
       "      <td>0.457796</td>\n",
       "      <td>0.0002</td>\n",
       "    </tr>\n",
       "  </tbody>\n",
       "</table>\n",
       "</div>"
      ],
      "text/plain": [
       "   accuracy      loss  val_accuracy  val_loss  learning_rate\n",
       "0  0.752184  1.834895      0.758621  1.191518         0.0010\n",
       "1  0.810680  1.375040      0.818621  1.036741         0.0010\n",
       "2  0.855340  1.126667      0.865862  0.889936         0.0010\n",
       "3  0.890583  0.998719      0.895862  0.705449         0.0010\n",
       "4  0.925825  0.857255      0.928621  0.617595         0.0010\n",
       "5  0.956602  0.717202      0.958621  0.556612         0.0010\n",
       "6  0.975534  0.593995      0.978759  0.493914         0.0002\n",
       "7  0.987379  0.480227      0.988862  0.457796         0.0002"
      ]
     },
     "execution_count": 3,
     "metadata": {},
     "output_type": "execute_result"
    }
   ],
   "source": [
    "metric = pd.DataFrame(model.history.history)\n",
    "metric"
   ]
  },
  {
   "cell_type": "code",
   "execution_count": 6,
   "metadata": {},
   "outputs": [
    {
     "data": {
      "text/plain": [
       "<Axes: >"
      ]
     },
     "execution_count": 6,
     "metadata": {},
     "output_type": "execute_result"
    },
    {
     "data": {
      "image/png": "[encoded data removed]",
      "text/plain": [
       "<Figure size 700x300 with 2 Axes>"
      ]
     },
     "metadata": {},
     "output_type": "display_data"
    }
   ],
   "source": [
    "fig, axes = plt.subplots(1,2, figsize=(7,3))\n",
    "metric[['loss', 'val_loss']].plot(ax=axes[0])\n",
    "metric[['accuracy', 'val_accuracy']].plot(ax=axes[1])"
   ]
  },
  {
   "cell_type": "code",
   "execution_count": 12,
   "metadata": {},
   "outputs": [
    {
     "name": "stdout",
     "output_type": "stream",
     "text": [
      "\u001b[1m3/3\u001b[0m \u001b[32m━━━━━━━━━━━━━━━━━━━━\u001b[0m\u001b[37m\u001b[0m \u001b[1m37s\u001b[0m 10s/step\n"
     ]
    },
    {
     "data": {
      "text/plain": [
       "array([[0.08305141, 0.04461366, 0.02478495, 0.4631784 , 0.29129288,\n",
       "        0.0930787 ],\n",
       "       [0.12304687, 0.06332245, 0.06361751, 0.47065017, 0.20485474,\n",
       "        0.07450822],\n",
       "       [0.08441158, 0.04566363, 0.02512727, 0.470657  , 0.28337112,\n",
       "        0.09076947],\n",
       "       [0.11370443, 0.05536823, 0.05340613, 0.47938326, 0.21878809,\n",
       "        0.07934985],\n",
       "       [0.14533918, 0.08235923, 0.08879247, 0.44188106, 0.18103825,\n",
       "        0.06058986],\n",
       "       [0.1287802 , 0.06640745, 0.07056539, 0.46203542, 0.20144127,\n",
       "        0.07077027],\n",
       "       [0.1344727 , 0.06995055, 0.0752298 , 0.4545053 , 0.19744176,\n",
       "        0.06839988],\n",
       "       [0.07747413, 0.04257757, 0.02172665, 0.42888606, 0.32235464,\n",
       "        0.10698095],\n",
       "       [0.08246151, 0.04456908, 0.02480392, 0.46334687, 0.29277453,\n",
       "        0.09204403],\n",
       "       [0.08766735, 0.04651255, 0.02587343, 0.481928  , 0.27010733,\n",
       "        0.0879114 ],\n",
       "       [0.05542885, 0.02118528, 0.01675993, 0.34098318, 0.36913145,\n",
       "        0.19651133],\n",
       "       [0.17406519, 0.11740961, 0.1249895 , 0.42596605, 0.12380426,\n",
       "        0.03376545],\n",
       "       [0.07575493, 0.03995524, 0.02068466, 0.41984278, 0.3252708 ,\n",
       "        0.11849161],\n",
       "       [0.1017249 , 0.04554589, 0.03565658, 0.4988588 , 0.23512341,\n",
       "        0.08309042],\n",
       "       [0.09964839, 0.04554191, 0.03429065, 0.49882117, 0.23812027,\n",
       "        0.08357759],\n",
       "       [0.1008862 , 0.04652485, 0.03568556, 0.50075954, 0.23280758,\n",
       "        0.08333631],\n",
       "       [0.1617783 , 0.09470672, 0.10748678, 0.4353412 , 0.15368472,\n",
       "        0.04700227],\n",
       "       [0.10618466, 0.04939152, 0.04392887, 0.4931789 , 0.22547115,\n",
       "        0.0818449 ],\n",
       "       [0.1036283 , 0.04620326, 0.03912236, 0.49699527, 0.2295208 ,\n",
       "        0.08453008],\n",
       "       [0.36980197, 0.32899737, 0.16203293, 0.1214967 , 0.01592265,\n",
       "        0.00174836],\n",
       "       [0.16303904, 0.09772126, 0.11272526, 0.43286005, 0.14894147,\n",
       "        0.04471288],\n",
       "       [0.29227465, 0.24755447, 0.16730586, 0.2422271 , 0.04336705,\n",
       "        0.00727084],\n",
       "       [0.13191742, 0.0695448 , 0.0722949 , 0.4616596 , 0.19559726,\n",
       "        0.06898612],\n",
       "       [0.30815223, 0.25996733, 0.16513184, 0.22252981, 0.03819598,\n",
       "        0.00602282],\n",
       "       [0.0606596 , 0.02440911, 0.01693916, 0.3585344 , 0.3562235 ,\n",
       "        0.18323427],\n",
       "       [0.10141305, 0.04716514, 0.03590477, 0.50110686, 0.23111522,\n",
       "        0.08329498],\n",
       "       [0.10484847, 0.04809612, 0.04170696, 0.4942597 , 0.22712192,\n",
       "        0.08396683],\n",
       "       [0.13075621, 0.06994033, 0.07287282, 0.46034583, 0.19665912,\n",
       "        0.06942566],\n",
       "       [0.09775112, 0.04674908, 0.03147624, 0.4951547 , 0.24534036,\n",
       "        0.0835285 ],\n",
       "       [0.09025003, 0.04420423, 0.02664369, 0.4833949 , 0.2675791 ,\n",
       "        0.08792809],\n",
       "       [0.13125956, 0.06785419, 0.07200052, 0.4616067 , 0.19817108,\n",
       "        0.06910796],\n",
       "       [0.07724669, 0.04245202, 0.02144122, 0.4283013 , 0.32197595,\n",
       "        0.10858286],\n",
       "       [0.14979373, 0.08472674, 0.09373824, 0.43493667, 0.17780897,\n",
       "        0.05899568],\n",
       "       [0.1320406 , 0.06922008, 0.07328205, 0.45804206, 0.19827053,\n",
       "        0.06914467],\n",
       "       [0.14199993, 0.07769661, 0.08547693, 0.4438867 , 0.18824418,\n",
       "        0.06269565],\n",
       "       [0.1046607 , 0.04771951, 0.04085164, 0.49451154, 0.22772308,\n",
       "        0.08453351],\n",
       "       [0.09285841, 0.04472836, 0.02836947, 0.48872155, 0.2582359 ,\n",
       "        0.08708634],\n",
       "       [0.24671666, 0.19456619, 0.15558301, 0.31837454, 0.07056223,\n",
       "        0.01419731],\n",
       "       [0.1258999 , 0.06466208, 0.06763458, 0.46873453, 0.2017615 ,\n",
       "        0.0713074 ],\n",
       "       [0.10230169, 0.04665872, 0.0382162 , 0.50057113, 0.22882935,\n",
       "        0.0834229 ],\n",
       "       [0.1021276 , 0.04622404, 0.03846462, 0.4970474 , 0.23193502,\n",
       "        0.08420137],\n",
       "       [0.20446496, 0.14111833, 0.13764022, 0.38794127, 0.10373743,\n",
       "        0.0250977 ],\n",
       "       [0.14158484, 0.07792553, 0.08495121, 0.4430913 , 0.1888784 ,\n",
       "        0.06356871],\n",
       "       [0.08423105, 0.04413753, 0.0250286 , 0.4635534 , 0.29097405,\n",
       "        0.09207533],\n",
       "       [0.13779797, 0.0741687 , 0.0793242 , 0.4523409 , 0.19115394,\n",
       "        0.06521419],\n",
       "       [0.17366421, 0.11756679, 0.12496404, 0.4263713 , 0.12397864,\n",
       "        0.03345511],\n",
       "       [0.34830603, 0.2957314 , 0.16508576, 0.16378477, 0.02400986,\n",
       "        0.00308221],\n",
       "       [0.06482387, 0.02768921, 0.0178952 , 0.3645589 , 0.3563951 ,\n",
       "        0.16863775],\n",
       "       [0.1469522 , 0.08188929, 0.09086802, 0.44102645, 0.18044913,\n",
       "        0.05881491],\n",
       "       [0.11354617, 0.05551863, 0.05350705, 0.48066324, 0.21677485,\n",
       "        0.07998998],\n",
       "       [0.15578046, 0.09044582, 0.100276  , 0.43327612, 0.16705208,\n",
       "        0.0531695 ],\n",
       "       [0.21064833, 0.15204644, 0.14402352, 0.3733208 , 0.09767886,\n",
       "        0.02228207],\n",
       "       [0.12943047, 0.06920069, 0.07045556, 0.46312493, 0.19719964,\n",
       "        0.07058862],\n",
       "       [0.15886241, 0.09105899, 0.1054659 , 0.43175974, 0.16178781,\n",
       "        0.05106509],\n",
       "       [0.10230731, 0.04497334, 0.03686848, 0.49890456, 0.23350517,\n",
       "        0.08344118],\n",
       "       [0.23605327, 0.17906405, 0.1526105 , 0.33757594, 0.07832845,\n",
       "        0.01636776],\n",
       "       [0.10963905, 0.05380089, 0.04997873, 0.4856116 , 0.21906953,\n",
       "        0.08190016],\n",
       "       [0.16456786, 0.1003232 , 0.11125626, 0.43427223, 0.14550814,\n",
       "        0.0440723 ]], dtype=float32)"
      ]
     },
     "execution_count": 12,
     "metadata": {},
     "output_type": "execute_result"
    }
   ],
   "source": [
    "pred = model.predict(test_data)\n",
    "pred"
   ]
  },
  {
   "cell_type": "code",
   "execution_count": 11,
   "metadata": {},
   "outputs": [
    {
     "name": "stdout",
     "output_type": "stream",
     "text": [
      "                Precision Recall  F1-Score  Support\n",
      "0        pain_1      0.98   0.98      0.98      200\n",
      "1        pain_2      0.98   0.98      0.98      400\n",
      "2        pain_3      0.98   0.98      0.98      800\n",
      "3        pain_4      0.97   0.97      0.97      300\n",
      "4        pain_5      0.98   0.98      0.98      289\n",
      "5      Accuracy                       0.98     1989\n",
      "6     Macro Avg      0.98   0.98      0.98     1989\n",
      "7  Weighted Avg      0.98   0.98      0.98     1989\n"
     ]
    }
   ],
   "source": [
    "pred = np.argmax(pred, axis=1)\n",
    "print(classification_report(test_data.classes, pred))"
   ]
  }
 ],
 "metadata": {
  "kernelspec": {
   "display_name": "base",
   "language": "python",
   "name": "python3"
  },
  "language_info": {
   "codemirror_mode": {
    "name": "ipython",
    "version": 3
   },
   "file_extension": ".py",
   "mimetype": "text/x-python",
   "name": "python",
   "nbconvert_exporter": "python",
   "pygments_lexer": "ipython3",
   "version": "3.10.14"
  }
 },
 "nbformat": 4,
 "nbformat_minor": 2
}
