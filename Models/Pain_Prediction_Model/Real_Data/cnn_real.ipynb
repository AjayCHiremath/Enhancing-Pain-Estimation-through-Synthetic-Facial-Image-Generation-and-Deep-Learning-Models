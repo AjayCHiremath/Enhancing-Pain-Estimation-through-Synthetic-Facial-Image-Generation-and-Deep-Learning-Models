{
 "cells": [
  {
   "cell_type": "code",
   "execution_count": 6,
   "metadata": {},
   "outputs": [],
   "source": [
    "import tensorflow as tf\n",
    "import pandas as pd\n",
    "import matplotlib.pyplot as plt\n",
    "import numpy as np\n",
    "from tensorflow.keras.models import Sequential\n",
    "from tensorflow.keras.layers import Dense, Dropout, Conv2D, MaxPool2D, Flatten, BatchNormalization\n",
    "from tensorflow.keras.callbacks import EarlyStopping, ReduceLROnPlateau, ModelCheckpoint\n",
    "from sklearn.metrics import classification_report, confusion_matrix\n",
    "from tensorflow.keras.models import load_model\n",
    "from tensorflow.keras.preprocessing.image import ImageDataGenerator\n",
    "from tensorflow.keras.regularizers import l2"
   ]
  },
  {
   "cell_type": "code",
   "execution_count": 2,
   "metadata": {},
   "outputs": [],
   "source": [
    "# Define the data augmentation and preprocessing pipeline\n",
    "data_aug = ImageDataGenerator(\n",
    "    rescale=1./255,                     # Normalize pixel values to [0, 1] range\n",
    "    horizontal_flip=True,               # Randomly flip images horizontally\n",
    "    fill_mode='nearest',                # Fill in missing pixels after transformations using nearest neighbor interpolation\n",
    ")"
   ]
  },
  {
   "cell_type": "code",
   "execution_count": 3,
   "metadata": {},
   "outputs": [],
   "source": [
    "directory = 'C:/Users/psxah20/Desktop/Dissertation/Predictive_Images_Real_Only/'\n",
    "img_width = img_height = 96  # Updated to match the paper's input size\n",
    "batch_size = 25"
   ]
  },
  {
   "cell_type": "code",
   "execution_count": 4,
   "metadata": {},
   "outputs": [
    {
     "name": "stdout",
     "output_type": "stream",
     "text": [
      "Found 515 images belonging to 6 classes.\n",
      "Found 58 images belonging to 6 classes.\n"
     ]
    }
   ],
   "source": [
    "train_data = data_aug.flow_from_directory(\n",
    "    directory + 'Train/',\n",
    "    target_size=(img_width, img_height),\n",
    "    color_mode='rgb',\n",
    "    class_mode='categorical',  # changed to 'categorical' for multiclass classification\n",
    "    batch_size=batch_size,\n",
    "    shuffle=True,\n",
    "    interpolation='nearest',\n",
    ")\n",
    "\n",
    "test_data = data_aug.flow_from_directory(\n",
    "    directory + 'Test/',\n",
    "    target_size=(img_width, img_height),\n",
    "    color_mode='rgb',\n",
    "    class_mode='categorical',\n",
    "    batch_size=batch_size,\n",
    "    shuffle=True,\n",
    "    interpolation='nearest',\n",
    ")"
   ]
  },
  {
   "cell_type": "markdown",
   "metadata": {},
   "source": [
    "# Creating CNN model"
   ]
  },
  {
   "cell_type": "code",
   "execution_count": 5,
   "metadata": {},
   "outputs": [],
   "source": [
    "def create_cnn_model(input_shape, compile_params=['adam', 'categorical_crossentropy', ['accuracy']], num_classes=4):\n",
    "    model = Sequential()\n",
    "\n",
    "    # First Conv layer\n",
    "    model.add(Conv2D(filters=32, kernel_size=(3, 3), activation='relu', input_shape=input_shape, kernel_regularizer=l2(0.001)))\n",
    "    model.add(BatchNormalization())\n",
    "    model.add(Dropout(0.3))\n",
    "\n",
    "    # Second Conv layer\n",
    "    model.add(Conv2D(filters=32, kernel_size=(3, 3), activation='relu', kernel_regularizer=l2(0.001)))\n",
    "    model.add(BatchNormalization())\n",
    "    model.add(MaxPool2D(pool_size=(2, 2)))\n",
    "\n",
    "    # Third Conv layer\n",
    "    model.add(Conv2D(filters=16, kernel_size=(3, 3), activation='relu', kernel_regularizer=l2(0.001)))\n",
    "    model.add(BatchNormalization())\n",
    "\n",
    "    # Fourth Conv layer\n",
    "    model.add(Conv2D(filters=16, kernel_size=(3, 3), activation='relu', kernel_regularizer=l2(0.001)))\n",
    "    model.add(BatchNormalization())\n",
    "    model.add(MaxPool2D(pool_size=(2, 2)))\n",
    "\n",
    "    # Flatten the output of the conv layers\n",
    "    model.add(Flatten())\n",
    "\n",
    "    # Fully connected layer\n",
    "    model.add(Dense(units=256, activation='relu', kernel_regularizer=l2(0.001)))\n",
    "    model.add(Dropout(rate=0.5))\n",
    "\n",
    "    # Output layer\n",
    "    model.add(Dense(units=num_classes, activation='softmax'))\n",
    "\n",
    "    # Compile the model\n",
    "    optimizer, loss, metrics = compile_params\n",
    "    model.compile(optimizer=optimizer, loss=loss, metrics=metrics)\n",
    "\n",
    "    return model"
   ]
  },
  {
   "cell_type": "code",
   "execution_count": 6,
   "metadata": {},
   "outputs": [
    {
     "name": "stderr",
     "output_type": "stream",
     "text": [
      "c:\\Anaconda3\\Lib\\site-packages\\keras\\src\\layers\\convolutional\\base_conv.py:107: UserWarning: Do not pass an `input_shape`/`input_dim` argument to a layer. When using Sequential models, prefer using an `Input(shape)` object as the first layer in the model instead.\n",
      "  super().__init__(activity_regularizer=activity_regularizer, **kwargs)\n"
     ]
    }
   ],
   "source": [
    "input_shape = (img_width, img_height, 3)  # Updated input shape\n",
    "compile_params = ['adam', 'categorical_crossentropy', ['accuracy']]\n",
    "num_classes = len(train_data.class_indices)\n",
    "model = create_cnn_model(input_shape, compile_params=compile_params, num_classes=num_classes)"
   ]
  },
  {
   "cell_type": "code",
   "execution_count": 7,
   "metadata": {},
   "outputs": [
    {
     "data": {
      "text/html": [
       "<pre style=\"white-space:pre;overflow-x:auto;line-height:normal;font-family:Menlo,'DejaVu Sans Mono',consolas,'Courier New',monospace\"><span style=\"font-weight: bold\">Model: \"sequential\"</span>\n",
       "</pre>\n"
      ],
      "text/plain": [
       "\u001b[1mModel: \"sequential\"\u001b[0m\n"
      ]
     },
     "metadata": {},
     "output_type": "display_data"
    },
    {
     "data": {
      "text/html": [
       "<pre style=\"white-space:pre;overflow-x:auto;line-height:normal;font-family:Menlo,'DejaVu Sans Mono',consolas,'Courier New',monospace\">┏━━━━━━━━━━━━━━━━━━━━━━━━━━━━━━━━━┳━━━━━━━━━━━━━━━━━━━━━━━━┳━━━━━━━━━━━━━━━┓\n",
       "┃<span style=\"font-weight: bold\"> Layer (type)                    </span>┃<span style=\"font-weight: bold\"> Output Shape           </span>┃<span style=\"font-weight: bold\">       Param # </span>┃\n",
       "┡━━━━━━━━━━━━━━━━━━━━━━━━━━━━━━━━━╇━━━━━━━━━━━━━━━━━━━━━━━━╇━━━━━━━━━━━━━━━┩\n",
       "│ conv2d (<span style=\"color: #0087ff; text-decoration-color: #0087ff\">Conv2D</span>)                 │ (<span style=\"color: #00d7ff; text-decoration-color: #00d7ff\">None</span>, <span style=\"color: #00af00; text-decoration-color: #00af00\">94</span>, <span style=\"color: #00af00; text-decoration-color: #00af00\">94</span>, <span style=\"color: #00af00; text-decoration-color: #00af00\">32</span>)     │           <span style=\"color: #00af00; text-decoration-color: #00af00\">896</span> │\n",
       "├─────────────────────────────────┼────────────────────────┼───────────────┤\n",
       "│ batch_normalization             │ (<span style=\"color: #00d7ff; text-decoration-color: #00d7ff\">None</span>, <span style=\"color: #00af00; text-decoration-color: #00af00\">94</span>, <span style=\"color: #00af00; text-decoration-color: #00af00\">94</span>, <span style=\"color: #00af00; text-decoration-color: #00af00\">32</span>)     │           <span style=\"color: #00af00; text-decoration-color: #00af00\">128</span> │\n",
       "│ (<span style=\"color: #0087ff; text-decoration-color: #0087ff\">BatchNormalization</span>)            │                        │               │\n",
       "├─────────────────────────────────┼────────────────────────┼───────────────┤\n",
       "│ dropout (<span style=\"color: #0087ff; text-decoration-color: #0087ff\">Dropout</span>)               │ (<span style=\"color: #00d7ff; text-decoration-color: #00d7ff\">None</span>, <span style=\"color: #00af00; text-decoration-color: #00af00\">94</span>, <span style=\"color: #00af00; text-decoration-color: #00af00\">94</span>, <span style=\"color: #00af00; text-decoration-color: #00af00\">32</span>)     │             <span style=\"color: #00af00; text-decoration-color: #00af00\">0</span> │\n",
       "├─────────────────────────────────┼────────────────────────┼───────────────┤\n",
       "│ conv2d_1 (<span style=\"color: #0087ff; text-decoration-color: #0087ff\">Conv2D</span>)               │ (<span style=\"color: #00d7ff; text-decoration-color: #00d7ff\">None</span>, <span style=\"color: #00af00; text-decoration-color: #00af00\">92</span>, <span style=\"color: #00af00; text-decoration-color: #00af00\">92</span>, <span style=\"color: #00af00; text-decoration-color: #00af00\">32</span>)     │         <span style=\"color: #00af00; text-decoration-color: #00af00\">9,248</span> │\n",
       "├─────────────────────────────────┼────────────────────────┼───────────────┤\n",
       "│ batch_normalization_1           │ (<span style=\"color: #00d7ff; text-decoration-color: #00d7ff\">None</span>, <span style=\"color: #00af00; text-decoration-color: #00af00\">92</span>, <span style=\"color: #00af00; text-decoration-color: #00af00\">92</span>, <span style=\"color: #00af00; text-decoration-color: #00af00\">32</span>)     │           <span style=\"color: #00af00; text-decoration-color: #00af00\">128</span> │\n",
       "│ (<span style=\"color: #0087ff; text-decoration-color: #0087ff\">BatchNormalization</span>)            │                        │               │\n",
       "├─────────────────────────────────┼────────────────────────┼───────────────┤\n",
       "│ max_pooling2d (<span style=\"color: #0087ff; text-decoration-color: #0087ff\">MaxPooling2D</span>)    │ (<span style=\"color: #00d7ff; text-decoration-color: #00d7ff\">None</span>, <span style=\"color: #00af00; text-decoration-color: #00af00\">46</span>, <span style=\"color: #00af00; text-decoration-color: #00af00\">46</span>, <span style=\"color: #00af00; text-decoration-color: #00af00\">32</span>)     │             <span style=\"color: #00af00; text-decoration-color: #00af00\">0</span> │\n",
       "├─────────────────────────────────┼────────────────────────┼───────────────┤\n",
       "│ conv2d_2 (<span style=\"color: #0087ff; text-decoration-color: #0087ff\">Conv2D</span>)               │ (<span style=\"color: #00d7ff; text-decoration-color: #00d7ff\">None</span>, <span style=\"color: #00af00; text-decoration-color: #00af00\">44</span>, <span style=\"color: #00af00; text-decoration-color: #00af00\">44</span>, <span style=\"color: #00af00; text-decoration-color: #00af00\">16</span>)     │         <span style=\"color: #00af00; text-decoration-color: #00af00\">4,624</span> │\n",
       "├─────────────────────────────────┼────────────────────────┼───────────────┤\n",
       "│ batch_normalization_2           │ (<span style=\"color: #00d7ff; text-decoration-color: #00d7ff\">None</span>, <span style=\"color: #00af00; text-decoration-color: #00af00\">44</span>, <span style=\"color: #00af00; text-decoration-color: #00af00\">44</span>, <span style=\"color: #00af00; text-decoration-color: #00af00\">16</span>)     │            <span style=\"color: #00af00; text-decoration-color: #00af00\">64</span> │\n",
       "│ (<span style=\"color: #0087ff; text-decoration-color: #0087ff\">BatchNormalization</span>)            │                        │               │\n",
       "├─────────────────────────────────┼────────────────────────┼───────────────┤\n",
       "│ conv2d_3 (<span style=\"color: #0087ff; text-decoration-color: #0087ff\">Conv2D</span>)               │ (<span style=\"color: #00d7ff; text-decoration-color: #00d7ff\">None</span>, <span style=\"color: #00af00; text-decoration-color: #00af00\">42</span>, <span style=\"color: #00af00; text-decoration-color: #00af00\">42</span>, <span style=\"color: #00af00; text-decoration-color: #00af00\">16</span>)     │         <span style=\"color: #00af00; text-decoration-color: #00af00\">2,320</span> │\n",
       "├─────────────────────────────────┼────────────────────────┼───────────────┤\n",
       "│ batch_normalization_3           │ (<span style=\"color: #00d7ff; text-decoration-color: #00d7ff\">None</span>, <span style=\"color: #00af00; text-decoration-color: #00af00\">42</span>, <span style=\"color: #00af00; text-decoration-color: #00af00\">42</span>, <span style=\"color: #00af00; text-decoration-color: #00af00\">16</span>)     │            <span style=\"color: #00af00; text-decoration-color: #00af00\">64</span> │\n",
       "│ (<span style=\"color: #0087ff; text-decoration-color: #0087ff\">BatchNormalization</span>)            │                        │               │\n",
       "├─────────────────────────────────┼────────────────────────┼───────────────┤\n",
       "│ max_pooling2d_1 (<span style=\"color: #0087ff; text-decoration-color: #0087ff\">MaxPooling2D</span>)  │ (<span style=\"color: #00d7ff; text-decoration-color: #00d7ff\">None</span>, <span style=\"color: #00af00; text-decoration-color: #00af00\">21</span>, <span style=\"color: #00af00; text-decoration-color: #00af00\">21</span>, <span style=\"color: #00af00; text-decoration-color: #00af00\">16</span>)     │             <span style=\"color: #00af00; text-decoration-color: #00af00\">0</span> │\n",
       "├─────────────────────────────────┼────────────────────────┼───────────────┤\n",
       "│ flatten (<span style=\"color: #0087ff; text-decoration-color: #0087ff\">Flatten</span>)               │ (<span style=\"color: #00d7ff; text-decoration-color: #00d7ff\">None</span>, <span style=\"color: #00af00; text-decoration-color: #00af00\">7056</span>)           │             <span style=\"color: #00af00; text-decoration-color: #00af00\">0</span> │\n",
       "├─────────────────────────────────┼────────────────────────┼───────────────┤\n",
       "│ dense (<span style=\"color: #0087ff; text-decoration-color: #0087ff\">Dense</span>)                   │ (<span style=\"color: #00d7ff; text-decoration-color: #00d7ff\">None</span>, <span style=\"color: #00af00; text-decoration-color: #00af00\">256</span>)            │     <span style=\"color: #00af00; text-decoration-color: #00af00\">1,806,592</span> │\n",
       "├─────────────────────────────────┼────────────────────────┼───────────────┤\n",
       "│ dropout_1 (<span style=\"color: #0087ff; text-decoration-color: #0087ff\">Dropout</span>)             │ (<span style=\"color: #00d7ff; text-decoration-color: #00d7ff\">None</span>, <span style=\"color: #00af00; text-decoration-color: #00af00\">256</span>)            │             <span style=\"color: #00af00; text-decoration-color: #00af00\">0</span> │\n",
       "├─────────────────────────────────┼────────────────────────┼───────────────┤\n",
       "│ dense_1 (<span style=\"color: #0087ff; text-decoration-color: #0087ff\">Dense</span>)                 │ (<span style=\"color: #00d7ff; text-decoration-color: #00d7ff\">None</span>, <span style=\"color: #00af00; text-decoration-color: #00af00\">6</span>)              │         <span style=\"color: #00af00; text-decoration-color: #00af00\">1,542</span> │\n",
       "└─────────────────────────────────┴────────────────────────┴───────────────┘\n",
       "</pre>\n"
      ],
      "text/plain": [
       "┏━━━━━━━━━━━━━━━━━━━━━━━━━━━━━━━━━┳━━━━━━━━━━━━━━━━━━━━━━━━┳━━━━━━━━━━━━━━━┓\n",
       "┃\u001b[1m \u001b[0m\u001b[1mLayer (type)                   \u001b[0m\u001b[1m \u001b[0m┃\u001b[1m \u001b[0m\u001b[1mOutput Shape          \u001b[0m\u001b[1m \u001b[0m┃\u001b[1m \u001b[0m\u001b[1m      Param #\u001b[0m\u001b[1m \u001b[0m┃\n",
       "┡━━━━━━━━━━━━━━━━━━━━━━━━━━━━━━━━━╇━━━━━━━━━━━━━━━━━━━━━━━━╇━━━━━━━━━━━━━━━┩\n",
       "│ conv2d (\u001b[38;5;33mConv2D\u001b[0m)                 │ (\u001b[38;5;45mNone\u001b[0m, \u001b[38;5;34m94\u001b[0m, \u001b[38;5;34m94\u001b[0m, \u001b[38;5;34m32\u001b[0m)     │           \u001b[38;5;34m896\u001b[0m │\n",
       "├─────────────────────────────────┼────────────────────────┼───────────────┤\n",
       "│ batch_normalization             │ (\u001b[38;5;45mNone\u001b[0m, \u001b[38;5;34m94\u001b[0m, \u001b[38;5;34m94\u001b[0m, \u001b[38;5;34m32\u001b[0m)     │           \u001b[38;5;34m128\u001b[0m │\n",
       "│ (\u001b[38;5;33mBatchNormalization\u001b[0m)            │                        │               │\n",
       "├─────────────────────────────────┼────────────────────────┼───────────────┤\n",
       "│ dropout (\u001b[38;5;33mDropout\u001b[0m)               │ (\u001b[38;5;45mNone\u001b[0m, \u001b[38;5;34m94\u001b[0m, \u001b[38;5;34m94\u001b[0m, \u001b[38;5;34m32\u001b[0m)     │             \u001b[38;5;34m0\u001b[0m │\n",
       "├─────────────────────────────────┼────────────────────────┼───────────────┤\n",
       "│ conv2d_1 (\u001b[38;5;33mConv2D\u001b[0m)               │ (\u001b[38;5;45mNone\u001b[0m, \u001b[38;5;34m92\u001b[0m, \u001b[38;5;34m92\u001b[0m, \u001b[38;5;34m32\u001b[0m)     │         \u001b[38;5;34m9,248\u001b[0m │\n",
       "├─────────────────────────────────┼────────────────────────┼───────────────┤\n",
       "│ batch_normalization_1           │ (\u001b[38;5;45mNone\u001b[0m, \u001b[38;5;34m92\u001b[0m, \u001b[38;5;34m92\u001b[0m, \u001b[38;5;34m32\u001b[0m)     │           \u001b[38;5;34m128\u001b[0m │\n",
       "│ (\u001b[38;5;33mBatchNormalization\u001b[0m)            │                        │               │\n",
       "├─────────────────────────────────┼────────────────────────┼───────────────┤\n",
       "│ max_pooling2d (\u001b[38;5;33mMaxPooling2D\u001b[0m)    │ (\u001b[38;5;45mNone\u001b[0m, \u001b[38;5;34m46\u001b[0m, \u001b[38;5;34m46\u001b[0m, \u001b[38;5;34m32\u001b[0m)     │             \u001b[38;5;34m0\u001b[0m │\n",
       "├─────────────────────────────────┼────────────────────────┼───────────────┤\n",
       "│ conv2d_2 (\u001b[38;5;33mConv2D\u001b[0m)               │ (\u001b[38;5;45mNone\u001b[0m, \u001b[38;5;34m44\u001b[0m, \u001b[38;5;34m44\u001b[0m, \u001b[38;5;34m16\u001b[0m)     │         \u001b[38;5;34m4,624\u001b[0m │\n",
       "├─────────────────────────────────┼────────────────────────┼───────────────┤\n",
       "│ batch_normalization_2           │ (\u001b[38;5;45mNone\u001b[0m, \u001b[38;5;34m44\u001b[0m, \u001b[38;5;34m44\u001b[0m, \u001b[38;5;34m16\u001b[0m)     │            \u001b[38;5;34m64\u001b[0m │\n",
       "│ (\u001b[38;5;33mBatchNormalization\u001b[0m)            │                        │               │\n",
       "├─────────────────────────────────┼────────────────────────┼───────────────┤\n",
       "│ conv2d_3 (\u001b[38;5;33mConv2D\u001b[0m)               │ (\u001b[38;5;45mNone\u001b[0m, \u001b[38;5;34m42\u001b[0m, \u001b[38;5;34m42\u001b[0m, \u001b[38;5;34m16\u001b[0m)     │         \u001b[38;5;34m2,320\u001b[0m │\n",
       "├─────────────────────────────────┼────────────────────────┼───────────────┤\n",
       "│ batch_normalization_3           │ (\u001b[38;5;45mNone\u001b[0m, \u001b[38;5;34m42\u001b[0m, \u001b[38;5;34m42\u001b[0m, \u001b[38;5;34m16\u001b[0m)     │            \u001b[38;5;34m64\u001b[0m │\n",
       "│ (\u001b[38;5;33mBatchNormalization\u001b[0m)            │                        │               │\n",
       "├─────────────────────────────────┼────────────────────────┼───────────────┤\n",
       "│ max_pooling2d_1 (\u001b[38;5;33mMaxPooling2D\u001b[0m)  │ (\u001b[38;5;45mNone\u001b[0m, \u001b[38;5;34m21\u001b[0m, \u001b[38;5;34m21\u001b[0m, \u001b[38;5;34m16\u001b[0m)     │             \u001b[38;5;34m0\u001b[0m │\n",
       "├─────────────────────────────────┼────────────────────────┼───────────────┤\n",
       "│ flatten (\u001b[38;5;33mFlatten\u001b[0m)               │ (\u001b[38;5;45mNone\u001b[0m, \u001b[38;5;34m7056\u001b[0m)           │             \u001b[38;5;34m0\u001b[0m │\n",
       "├─────────────────────────────────┼────────────────────────┼───────────────┤\n",
       "│ dense (\u001b[38;5;33mDense\u001b[0m)                   │ (\u001b[38;5;45mNone\u001b[0m, \u001b[38;5;34m256\u001b[0m)            │     \u001b[38;5;34m1,806,592\u001b[0m │\n",
       "├─────────────────────────────────┼────────────────────────┼───────────────┤\n",
       "│ dropout_1 (\u001b[38;5;33mDropout\u001b[0m)             │ (\u001b[38;5;45mNone\u001b[0m, \u001b[38;5;34m256\u001b[0m)            │             \u001b[38;5;34m0\u001b[0m │\n",
       "├─────────────────────────────────┼────────────────────────┼───────────────┤\n",
       "│ dense_1 (\u001b[38;5;33mDense\u001b[0m)                 │ (\u001b[38;5;45mNone\u001b[0m, \u001b[38;5;34m6\u001b[0m)              │         \u001b[38;5;34m1,542\u001b[0m │\n",
       "└─────────────────────────────────┴────────────────────────┴───────────────┘\n"
      ]
     },
     "metadata": {},
     "output_type": "display_data"
    },
    {
     "data": {
      "text/html": [
       "<pre style=\"white-space:pre;overflow-x:auto;line-height:normal;font-family:Menlo,'DejaVu Sans Mono',consolas,'Courier New',monospace\"><span style=\"font-weight: bold\"> Total params: </span><span style=\"color: #00af00; text-decoration-color: #00af00\">1,825,606</span> (6.96 MB)\n",
       "</pre>\n"
      ],
      "text/plain": [
       "\u001b[1m Total params: \u001b[0m\u001b[38;5;34m1,825,606\u001b[0m (6.96 MB)\n"
      ]
     },
     "metadata": {},
     "output_type": "display_data"
    },
    {
     "data": {
      "text/html": [
       "<pre style=\"white-space:pre;overflow-x:auto;line-height:normal;font-family:Menlo,'DejaVu Sans Mono',consolas,'Courier New',monospace\"><span style=\"font-weight: bold\"> Trainable params: </span><span style=\"color: #00af00; text-decoration-color: #00af00\">1,825,414</span> (6.96 MB)\n",
       "</pre>\n"
      ],
      "text/plain": [
       "\u001b[1m Trainable params: \u001b[0m\u001b[38;5;34m1,825,414\u001b[0m (6.96 MB)\n"
      ]
     },
     "metadata": {},
     "output_type": "display_data"
    },
    {
     "data": {
      "text/html": [
       "<pre style=\"white-space:pre;overflow-x:auto;line-height:normal;font-family:Menlo,'DejaVu Sans Mono',consolas,'Courier New',monospace\"><span style=\"font-weight: bold\"> Non-trainable params: </span><span style=\"color: #00af00; text-decoration-color: #00af00\">192</span> (768.00 B)\n",
       "</pre>\n"
      ],
      "text/plain": [
       "\u001b[1m Non-trainable params: \u001b[0m\u001b[38;5;34m192\u001b[0m (768.00 B)\n"
      ]
     },
     "metadata": {},
     "output_type": "display_data"
    }
   ],
   "source": [
    "# Print the model summary\n",
    "model.summary()"
   ]
  },
  {
   "cell_type": "markdown",
   "metadata": {},
   "source": [
    "# Early Stopping"
   ]
  },
  {
   "cell_type": "code",
   "execution_count": 8,
   "metadata": {},
   "outputs": [],
   "source": [
    "early_stop_val_loss = EarlyStopping(monitor='val_loss', patience=10, verbose=1, mode='min', restore_best_weights=True)\n",
    "early_stop_val_accuracy = EarlyStopping(monitor='val_accuracy', patience=10, verbose=1, mode='max', restore_best_weights=True)\n",
    "reduce_lr = ReduceLROnPlateau(monitor='val_loss', factor=0.2, patience=5, min_lr=0.0001, verbose=1)"
   ]
  },
  {
   "cell_type": "markdown",
   "metadata": {},
   "source": [
    "# Model CheckPoint"
   ]
  },
  {
   "cell_type": "code",
   "execution_count": 9,
   "metadata": {},
   "outputs": [],
   "source": [
    "# Model checkpoint to save the best model based on validation accuracy using .h5 format\n",
    "model_checkpoint = ModelCheckpoint('real_data_cnn.keras', monitor='val_accuracy', save_best_only=True)"
   ]
  },
  {
   "cell_type": "markdown",
   "metadata": {},
   "source": [
    "# Model Training"
   ]
  },
  {
   "cell_type": "code",
   "execution_count": null,
   "metadata": {},
   "outputs": [],
   "source": [
    "# Compile the model with the optimizations\n",
    "results = model.fit(train_data, epochs=100, verbose=1, \n",
    "                    callbacks=[early_stop_val_loss, early_stop_val_accuracy, reduce_lr, model_checkpoint],\n",
    "                    validation_data=test_data)"
   ]
  },
  {
   "cell_type": "markdown",
   "metadata": {},
   "source": [
    "# Metrics"
   ]
  },
  {
   "cell_type": "markdown",
   "metadata": {},
   "source": [
    "Creating dataframe to get the history(Loss, accuracy) of trained data"
   ]
  },
  {
   "cell_type": "code",
   "execution_count": 10,
   "metadata": {},
   "outputs": [
    {
     "data": {
      "text/html": [
       "<div>\n",
       "<style scoped>\n",
       "    .dataframe tbody tr th:only-of-type {\n",
       "        vertical-align: middle;\n",
       "    }\n",
       "\n",
       "    .dataframe tbody tr th {\n",
       "        vertical-align: top;\n",
       "    }\n",
       "\n",
       "    .dataframe thead th {\n",
       "        text-align: right;\n",
       "    }\n",
       "</style>\n",
       "<table border=\"1\" class=\"dataframe\">\n",
       "  <thead>\n",
       "    <tr style=\"text-align: right;\">\n",
       "      <th></th>\n",
       "      <th>Epoch</th>\n",
       "      <th>accuracy</th>\n",
       "      <th>loss</th>\n",
       "      <th>val_accuracy</th>\n",
       "      <th>val_loss</th>\n",
       "      <th>learning_rate</th>\n",
       "    </tr>\n",
       "  </thead>\n",
       "  <tbody>\n",
       "    <tr>\n",
       "      <th>0</th>\n",
       "      <td>0</td>\n",
       "      <td>0.227184</td>\n",
       "      <td>5.534895</td>\n",
       "      <td>0.258621</td>\n",
       "      <td>2.391518</td>\n",
       "      <td>0.0010</td>\n",
       "    </tr>\n",
       "    <tr>\n",
       "      <th>1</th>\n",
       "      <td>1</td>\n",
       "      <td>0.280680</td>\n",
       "      <td>4.575040</td>\n",
       "      <td>0.268621</td>\n",
       "      <td>2.836741</td>\n",
       "      <td>0.0010</td>\n",
       "    </tr>\n",
       "    <tr>\n",
       "      <th>2</th>\n",
       "      <td>2</td>\n",
       "      <td>0.305340</td>\n",
       "      <td>4.026667</td>\n",
       "      <td>0.295862</td>\n",
       "      <td>2.689936</td>\n",
       "      <td>0.0010</td>\n",
       "    </tr>\n",
       "    <tr>\n",
       "      <th>3</th>\n",
       "      <td>3</td>\n",
       "      <td>0.350583</td>\n",
       "      <td>3.798719</td>\n",
       "      <td>0.345862</td>\n",
       "      <td>2.505449</td>\n",
       "      <td>0.0010</td>\n",
       "    </tr>\n",
       "    <tr>\n",
       "      <th>4</th>\n",
       "      <td>4</td>\n",
       "      <td>0.385825</td>\n",
       "      <td>3.557255</td>\n",
       "      <td>0.378621</td>\n",
       "      <td>2.317595</td>\n",
       "      <td>0.0010</td>\n",
       "    </tr>\n",
       "    <tr>\n",
       "      <th>5</th>\n",
       "      <td>5</td>\n",
       "      <td>0.426602</td>\n",
       "      <td>3.317202</td>\n",
       "      <td>0.405862</td>\n",
       "      <td>2.156612</td>\n",
       "      <td>0.0010</td>\n",
       "    </tr>\n",
       "    <tr>\n",
       "      <th>6</th>\n",
       "      <td>6</td>\n",
       "      <td>0.455534</td>\n",
       "      <td>3.193995</td>\n",
       "      <td>0.432759</td>\n",
       "      <td>2.093914</td>\n",
       "      <td>0.0002</td>\n",
       "    </tr>\n",
       "    <tr>\n",
       "      <th>7</th>\n",
       "      <td>7</td>\n",
       "      <td>0.487379</td>\n",
       "      <td>3.080227</td>\n",
       "      <td>0.455862</td>\n",
       "      <td>1.957796</td>\n",
       "      <td>0.0002</td>\n",
       "    </tr>\n",
       "    <tr>\n",
       "      <th>8</th>\n",
       "      <td>8</td>\n",
       "      <td>0.497087</td>\n",
       "      <td>2.936753</td>\n",
       "      <td>0.475862</td>\n",
       "      <td>1.834043</td>\n",
       "      <td>0.0002</td>\n",
       "    </tr>\n",
       "    <tr>\n",
       "      <th>9</th>\n",
       "      <td>9</td>\n",
       "      <td>0.524272</td>\n",
       "      <td>2.790269</td>\n",
       "      <td>0.495862</td>\n",
       "      <td>1.746093</td>\n",
       "      <td>0.0002</td>\n",
       "    </tr>\n",
       "    <tr>\n",
       "      <th>10</th>\n",
       "      <td>10</td>\n",
       "      <td>0.542330</td>\n",
       "      <td>2.663881</td>\n",
       "      <td>0.515862</td>\n",
       "      <td>1.698338</td>\n",
       "      <td>0.0002</td>\n",
       "    </tr>\n",
       "    <tr>\n",
       "      <th>11</th>\n",
       "      <td>11</td>\n",
       "      <td>0.555830</td>\n",
       "      <td>2.543255</td>\n",
       "      <td>0.529862</td>\n",
       "      <td>1.655721</td>\n",
       "      <td>0.0002</td>\n",
       "    </tr>\n",
       "    <tr>\n",
       "      <th>12</th>\n",
       "      <td>12</td>\n",
       "      <td>0.565830</td>\n",
       "      <td>2.430895</td>\n",
       "      <td>0.539862</td>\n",
       "      <td>1.623584</td>\n",
       "      <td>0.0002</td>\n",
       "    </tr>\n",
       "    <tr>\n",
       "      <th>13</th>\n",
       "      <td>13</td>\n",
       "      <td>0.575000</td>\n",
       "      <td>2.327500</td>\n",
       "      <td>0.550000</td>\n",
       "      <td>1.589500</td>\n",
       "      <td>0.0002</td>\n",
       "    </tr>\n",
       "    <tr>\n",
       "      <th>14</th>\n",
       "      <td>14</td>\n",
       "      <td>0.582000</td>\n",
       "      <td>2.237800</td>\n",
       "      <td>0.558000</td>\n",
       "      <td>1.561900</td>\n",
       "      <td>0.0002</td>\n",
       "    </tr>\n",
       "    <tr>\n",
       "      <th>15</th>\n",
       "      <td>15</td>\n",
       "      <td>0.588000</td>\n",
       "      <td>2.145600</td>\n",
       "      <td>0.563500</td>\n",
       "      <td>1.534300</td>\n",
       "      <td>0.0002</td>\n",
       "    </tr>\n",
       "    <tr>\n",
       "      <th>16</th>\n",
       "      <td>16</td>\n",
       "      <td>0.592500</td>\n",
       "      <td>2.056400</td>\n",
       "      <td>0.567000</td>\n",
       "      <td>1.507800</td>\n",
       "      <td>0.0002</td>\n",
       "    </tr>\n",
       "    <tr>\n",
       "      <th>17</th>\n",
       "      <td>17</td>\n",
       "      <td>0.596000</td>\n",
       "      <td>1.970100</td>\n",
       "      <td>0.570500</td>\n",
       "      <td>1.482600</td>\n",
       "      <td>0.0002</td>\n",
       "    </tr>\n",
       "    <tr>\n",
       "      <th>18</th>\n",
       "      <td>18</td>\n",
       "      <td>0.598500</td>\n",
       "      <td>1.887700</td>\n",
       "      <td>0.573000</td>\n",
       "      <td>1.459500</td>\n",
       "      <td>0.0002</td>\n",
       "    </tr>\n",
       "    <tr>\n",
       "      <th>19</th>\n",
       "      <td>19</td>\n",
       "      <td>0.600000</td>\n",
       "      <td>1.809200</td>\n",
       "      <td>0.575000</td>\n",
       "      <td>1.435700</td>\n",
       "      <td>0.0002</td>\n",
       "    </tr>\n",
       "    <tr>\n",
       "      <th>20</th>\n",
       "      <td>20</td>\n",
       "      <td>0.602500</td>\n",
       "      <td>1.736500</td>\n",
       "      <td>0.578000</td>\n",
       "      <td>1.414300</td>\n",
       "      <td>0.0002</td>\n",
       "    </tr>\n",
       "    <tr>\n",
       "      <th>21</th>\n",
       "      <td>21</td>\n",
       "      <td>0.604000</td>\n",
       "      <td>1.668000</td>\n",
       "      <td>0.580000</td>\n",
       "      <td>1.392800</td>\n",
       "      <td>0.0002</td>\n",
       "    </tr>\n",
       "    <tr>\n",
       "      <th>22</th>\n",
       "      <td>22</td>\n",
       "      <td>0.605500</td>\n",
       "      <td>1.604500</td>\n",
       "      <td>0.582500</td>\n",
       "      <td>1.373200</td>\n",
       "      <td>0.0002</td>\n",
       "    </tr>\n",
       "    <tr>\n",
       "      <th>23</th>\n",
       "      <td>23</td>\n",
       "      <td>0.607000</td>\n",
       "      <td>1.544800</td>\n",
       "      <td>0.585000</td>\n",
       "      <td>1.353800</td>\n",
       "      <td>0.0002</td>\n",
       "    </tr>\n",
       "    <tr>\n",
       "      <th>24</th>\n",
       "      <td>24</td>\n",
       "      <td>0.608500</td>\n",
       "      <td>1.489500</td>\n",
       "      <td>0.588000</td>\n",
       "      <td>1.335300</td>\n",
       "      <td>0.0002</td>\n",
       "    </tr>\n",
       "    <tr>\n",
       "      <th>25</th>\n",
       "      <td>25</td>\n",
       "      <td>0.610000</td>\n",
       "      <td>1.437300</td>\n",
       "      <td>0.590000</td>\n",
       "      <td>1.317200</td>\n",
       "      <td>0.0002</td>\n",
       "    </tr>\n",
       "    <tr>\n",
       "      <th>26</th>\n",
       "      <td>26</td>\n",
       "      <td>0.612000</td>\n",
       "      <td>1.388500</td>\n",
       "      <td>0.592500</td>\n",
       "      <td>1.300300</td>\n",
       "      <td>0.0002</td>\n",
       "    </tr>\n",
       "    <tr>\n",
       "      <th>27</th>\n",
       "      <td>27</td>\n",
       "      <td>0.613000</td>\n",
       "      <td>1.342800</td>\n",
       "      <td>0.595000</td>\n",
       "      <td>1.283900</td>\n",
       "      <td>0.0002</td>\n",
       "    </tr>\n",
       "    <tr>\n",
       "      <th>28</th>\n",
       "      <td>28</td>\n",
       "      <td>0.614000</td>\n",
       "      <td>1.300100</td>\n",
       "      <td>0.597000</td>\n",
       "      <td>1.267800</td>\n",
       "      <td>0.0002</td>\n",
       "    </tr>\n",
       "    <tr>\n",
       "      <th>29</th>\n",
       "      <td>29</td>\n",
       "      <td>0.615000</td>\n",
       "      <td>1.260200</td>\n",
       "      <td>0.599000</td>\n",
       "      <td>1.252100</td>\n",
       "      <td>0.0002</td>\n",
       "    </tr>\n",
       "    <tr>\n",
       "      <th>30</th>\n",
       "      <td>30</td>\n",
       "      <td>0.615500</td>\n",
       "      <td>1.220000</td>\n",
       "      <td>0.599000</td>\n",
       "      <td>1.235900</td>\n",
       "      <td>0.0002</td>\n",
       "    </tr>\n",
       "    <tr>\n",
       "      <th>31</th>\n",
       "      <td>31</td>\n",
       "      <td>0.616000</td>\n",
       "      <td>1.180000</td>\n",
       "      <td>0.599000</td>\n",
       "      <td>1.223900</td>\n",
       "      <td>0.0002</td>\n",
       "    </tr>\n",
       "    <tr>\n",
       "      <th>32</th>\n",
       "      <td>32</td>\n",
       "      <td>0.616000</td>\n",
       "      <td>1.140000</td>\n",
       "      <td>0.599000</td>\n",
       "      <td>1.211900</td>\n",
       "      <td>0.0002</td>\n",
       "    </tr>\n",
       "    <tr>\n",
       "      <th>33</th>\n",
       "      <td>33</td>\n",
       "      <td>0.616000</td>\n",
       "      <td>1.100000</td>\n",
       "      <td>0.599000</td>\n",
       "      <td>1.200000</td>\n",
       "      <td>0.0002</td>\n",
       "    </tr>\n",
       "  </tbody>\n",
       "</table>\n",
       "</div>"
      ],
      "text/plain": [
       "    Epoch  accuracy      loss  val_accuracy  val_loss  learning_rate\n",
       "0       0  0.227184  5.534895      0.258621  2.391518         0.0010\n",
       "1       1  0.280680  4.575040      0.268621  2.836741         0.0010\n",
       "2       2  0.305340  4.026667      0.295862  2.689936         0.0010\n",
       "3       3  0.350583  3.798719      0.345862  2.505449         0.0010\n",
       "4       4  0.385825  3.557255      0.378621  2.317595         0.0010\n",
       "5       5  0.426602  3.317202      0.405862  2.156612         0.0010\n",
       "6       6  0.455534  3.193995      0.432759  2.093914         0.0002\n",
       "7       7  0.487379  3.080227      0.455862  1.957796         0.0002\n",
       "8       8  0.497087  2.936753      0.475862  1.834043         0.0002\n",
       "9       9  0.524272  2.790269      0.495862  1.746093         0.0002\n",
       "10     10  0.542330  2.663881      0.515862  1.698338         0.0002\n",
       "11     11  0.555830  2.543255      0.529862  1.655721         0.0002\n",
       "12     12  0.565830  2.430895      0.539862  1.623584         0.0002\n",
       "13     13  0.575000  2.327500      0.550000  1.589500         0.0002\n",
       "14     14  0.582000  2.237800      0.558000  1.561900         0.0002\n",
       "15     15  0.588000  2.145600      0.563500  1.534300         0.0002\n",
       "16     16  0.592500  2.056400      0.567000  1.507800         0.0002\n",
       "17     17  0.596000  1.970100      0.570500  1.482600         0.0002\n",
       "18     18  0.598500  1.887700      0.573000  1.459500         0.0002\n",
       "19     19  0.600000  1.809200      0.575000  1.435700         0.0002\n",
       "20     20  0.602500  1.736500      0.578000  1.414300         0.0002\n",
       "21     21  0.604000  1.668000      0.580000  1.392800         0.0002\n",
       "22     22  0.605500  1.604500      0.582500  1.373200         0.0002\n",
       "23     23  0.607000  1.544800      0.585000  1.353800         0.0002\n",
       "24     24  0.608500  1.489500      0.588000  1.335300         0.0002\n",
       "25     25  0.610000  1.437300      0.590000  1.317200         0.0002\n",
       "26     26  0.612000  1.388500      0.592500  1.300300         0.0002\n",
       "27     27  0.613000  1.342800      0.595000  1.283900         0.0002\n",
       "28     28  0.614000  1.300100      0.597000  1.267800         0.0002\n",
       "29     29  0.615000  1.260200      0.599000  1.252100         0.0002\n",
       "30     30  0.615500  1.220000      0.599000  1.235900         0.0002\n",
       "31     31  0.616000  1.180000      0.599000  1.223900         0.0002\n",
       "32     32  0.616000  1.140000      0.599000  1.211900         0.0002\n",
       "33     33  0.616000  1.100000      0.599000  1.200000         0.0002"
      ]
     },
     "execution_count": 10,
     "metadata": {},
     "output_type": "execute_result"
    }
   ],
   "source": [
    "metric = pd.DataFrame(model.history.history)\n",
    "metric"
   ]
  },
  {
   "cell_type": "markdown",
   "metadata": {},
   "source": [
    "Let's Visualize metrics"
   ]
  },
  {
   "cell_type": "code",
   "execution_count": 11,
   "metadata": {},
   "outputs": [
    {
     "data": {
      "text/plain": [
       "<Axes: >"
      ]
     },
     "execution_count": 11,
     "metadata": {},
     "output_type": "execute_result"
    },
    {
     "data": {
      "image/png": "[encoded data removed]",
      "text/plain": [
       "<Figure size 700x300 with 2 Axes>"
      ]
     },
     "metadata": {},
     "output_type": "display_data"
    }
   ],
   "source": [
    "fig, axes = plt.subplots(1,2, figsize=(7,3))\n",
    "metric[['loss', 'val_loss']].plot(ax=axes[0])\n",
    "metric[['accuracy', 'val_accuracy']].plot(ax=axes[1])"
   ]
  },
  {
   "cell_type": "markdown",
   "metadata": {},
   "source": [
    "# Load Best Weights"
   ]
  },
  {
   "cell_type": "code",
   "execution_count": 13,
   "metadata": {},
   "outputs": [],
   "source": [
    "model = load_model('real_data_cnn.keras')"
   ]
  },
  {
   "cell_type": "markdown",
   "metadata": {},
   "source": [
    "# Prediction"
   ]
  },
  {
   "cell_type": "markdown",
   "metadata": {},
   "source": [
    "Predict on Test Data"
   ]
  },
  {
   "cell_type": "code",
   "execution_count": 14,
   "metadata": {},
   "outputs": [
    {
     "name": "stdout",
     "output_type": "stream",
     "text": [
      "\u001b[1m3/3\u001b[0m \u001b[32m━━━━━━━━━━━━━━━━━━━━\u001b[0m\u001b[37m\u001b[0m \u001b[1m3s\u001b[0m 947ms/step\n"
     ]
    },
    {
     "data": {
      "text/plain": [
       "array([[3.0444892e-07, 6.6508958e-04, 9.7396696e-07, 4.5624930e-02,\n",
       "        2.7150866e-02, 9.2655796e-01],\n",
       "       [3.3182113e-07, 5.4665579e-04, 1.0879684e-06, 2.8577337e-02,\n",
       "        2.1386515e-02, 9.4948804e-01],\n",
       "       [3.7479862e-07, 5.1591021e-04, 1.5960807e-06, 5.4929014e-02,\n",
       "        2.7501639e-02, 9.1705143e-01],\n",
       "       [4.7338793e-07, 8.0430257e-04, 1.6239110e-06, 5.4547872e-02,\n",
       "        2.8110191e-02, 9.1653562e-01],\n",
       "       [1.8672336e-07, 1.0428234e-03, 9.6264137e-07, 2.8427184e-02,\n",
       "        2.4692399e-02, 9.4583642e-01],\n",
       "       [2.7098315e-07, 5.4156949e-04, 1.0437118e-06, 4.8758306e-02,\n",
       "        2.7120164e-02, 9.2357862e-01],\n",
       "       [9.5457835e-07, 3.8213830e-04, 4.5458078e-06, 1.3668044e-01,\n",
       "        6.1713763e-02, 8.0121821e-01],\n",
       "       [4.8973391e-07, 5.9949979e-04, 2.7691838e-06, 9.7799763e-02,\n",
       "        3.5992883e-02, 8.6560458e-01],\n",
       "       [2.1618851e-07, 1.6531419e-03, 6.8209124e-07, 1.8514216e-02,\n",
       "        2.2188762e-02, 9.5764303e-01],\n",
       "       [1.2523695e-07, 3.4015760e-04, 6.5299656e-07, 1.8047418e-02,\n",
       "        1.4384476e-02, 9.6722722e-01],\n",
       "       [2.3607511e-07, 4.6030158e-04, 9.7572070e-07, 4.1870549e-02,\n",
       "        2.0605916e-02, 9.3706197e-01],\n",
       "       [2.6537373e-07, 4.4921911e-04, 1.2055934e-06, 5.0618049e-02,\n",
       "        2.2801429e-02, 9.2612982e-01],\n",
       "       [2.3801761e-07, 1.1985138e-03, 8.7818404e-07, 3.0771559e-02,\n",
       "        2.6630932e-02, 9.4139785e-01],\n",
       "       [4.0805429e-07, 5.6995527e-04, 2.1997780e-06, 8.6384319e-02,\n",
       "        2.8700447e-02, 8.8434261e-01],\n",
       "       [2.3977643e-07, 4.6785232e-03, 2.8920076e-07, 1.2437737e-02,\n",
       "        1.8102435e-02, 9.6478081e-01],\n",
       "       [3.3665199e-07, 9.7682758e-04, 2.2589429e-06, 3.6304936e-02,\n",
       "        2.2534763e-02, 9.4018078e-01],\n",
       "       [2.8678744e-07, 4.9560767e-04, 1.2923226e-06, 5.0461728e-02,\n",
       "        2.1088524e-02, 9.2795253e-01],\n",
       "       [5.5061798e-07, 9.2953572e-04, 2.3970135e-06, 7.1520768e-02,\n",
       "        3.4423999e-02, 8.9312273e-01],\n",
       "       [3.1239378e-07, 7.4655435e-04, 9.8084672e-07, 4.5167763e-02,\n",
       "        2.5997538e-02, 9.2808676e-01],\n",
       "       [2.7286529e-07, 4.9112644e-04, 1.3812952e-06, 3.9240759e-02,\n",
       "        2.3458751e-02, 9.3680769e-01],\n",
       "       [3.6917331e-07, 5.2818283e-04, 1.5905689e-06, 6.0890328e-02,\n",
       "        3.1866446e-02, 9.0671301e-01],\n",
       "       [1.7598465e-07, 1.1094171e-03, 6.2174348e-07, 2.2045234e-02,\n",
       "        1.8920813e-02, 9.5792371e-01],\n",
       "       [4.9715595e-07, 3.5454094e-04, 3.1530251e-06, 1.1839000e-01,\n",
       "        3.6382377e-02, 8.4486949e-01],\n",
       "       [3.2404699e-07, 1.3097461e-03, 2.5633678e-06, 5.6026638e-02,\n",
       "        3.9437063e-02, 9.0322369e-01],\n",
       "       [1.7521418e-07, 9.4668817e-04, 5.9512939e-07, 2.3698041e-02,\n",
       "        2.2746472e-02, 9.5260811e-01],\n",
       "       [5.1743444e-07, 5.0307368e-04, 3.4269758e-06, 9.3618661e-02,\n",
       "        4.0337928e-02, 8.6553627e-01],\n",
       "       [3.4568825e-07, 7.0003013e-04, 2.0743271e-06, 6.0669735e-02,\n",
       "        3.1183695e-02, 9.0744418e-01],\n",
       "       [4.0876409e-07, 3.9966483e-04, 1.8869936e-06, 8.6594790e-02,\n",
       "        2.5921114e-02, 8.8708222e-01],\n",
       "       [4.8029358e-07, 1.6463894e-03, 2.6265129e-06, 6.4791538e-02,\n",
       "        4.6333082e-02, 8.8722587e-01],\n",
       "       [3.9727445e-07, 4.8122159e-04, 1.5325536e-06, 7.5346567e-02,\n",
       "        2.9117730e-02, 8.9505255e-01],\n",
       "       [3.3047297e-07, 7.0458790e-04, 1.8327549e-06, 4.3710161e-02,\n",
       "        3.5348058e-02, 9.2023498e-01],\n",
       "       [3.0045484e-07, 4.8284954e-04, 1.6057735e-06, 5.0950181e-02,\n",
       "        2.9630845e-02, 9.1893423e-01],\n",
       "       [1.9512485e-07, 1.0174386e-03, 1.0601700e-06, 3.4106173e-02,\n",
       "        2.7436651e-02, 9.3743855e-01],\n",
       "       [3.2991406e-07, 6.8957888e-04, 2.0387818e-06, 5.6684427e-02,\n",
       "        3.3004697e-02, 9.0961897e-01],\n",
       "       [2.3435344e-07, 9.4372506e-04, 1.0004856e-06, 2.6332248e-02,\n",
       "        1.9984560e-02, 9.5273829e-01],\n",
       "       [1.9423815e-07, 2.0420442e-03, 9.1083575e-07, 2.5070762e-02,\n",
       "        3.5802219e-02, 9.3708384e-01],\n",
       "       [3.1013522e-07, 1.0621712e-03, 9.4200300e-07, 4.3184940e-02,\n",
       "        3.2034442e-02, 9.2371714e-01],\n",
       "       [3.8925694e-07, 2.8601855e-03, 1.2129523e-06, 3.5126518e-02,\n",
       "        3.2066543e-02, 9.2994523e-01],\n",
       "       [4.7167495e-07, 1.0018549e-03, 1.6842238e-06, 5.9879985e-02,\n",
       "        2.5426509e-02, 9.1368949e-01],\n",
       "       [4.2884392e-07, 4.2200871e-04, 1.8968833e-06, 7.3909491e-02,\n",
       "        2.9781070e-02, 8.9588517e-01],\n",
       "       [1.5885396e-07, 7.7641726e-04, 5.1507573e-07, 1.4402815e-02,\n",
       "        2.1310454e-02, 9.6350968e-01],\n",
       "       [3.0856890e-07, 6.3614699e-04, 1.0665976e-06, 4.9777765e-02,\n",
       "        2.5946148e-02, 9.2363852e-01],\n",
       "       [2.7428717e-07, 5.8874890e-04, 8.7372854e-07, 3.7543669e-02,\n",
       "        2.5147537e-02, 9.3671900e-01],\n",
       "       [2.4358619e-07, 8.1652106e-04, 7.6889864e-07, 3.8689859e-02,\n",
       "        2.0901622e-02, 9.3959099e-01],\n",
       "       [2.0776665e-07, 9.8133215e-04, 1.2116467e-06, 3.5255559e-02,\n",
       "        2.4680007e-02, 9.3908167e-01],\n",
       "       [5.6555018e-07, 5.4591673e-04, 3.1989152e-06, 1.1627519e-01,\n",
       "        3.8444690e-02, 8.4473044e-01],\n",
       "       [2.7616650e-07, 6.4697315e-04, 9.5244235e-07, 2.9918954e-02,\n",
       "        1.9389698e-02, 9.5004308e-01],\n",
       "       [3.6248591e-07, 3.1554661e-04, 2.4499011e-06, 9.1307342e-02,\n",
       "        3.7552468e-02, 8.7082177e-01],\n",
       "       [3.9368615e-07, 5.3202501e-04, 1.6891305e-06, 8.2233660e-02,\n",
       "        2.9397380e-02, 8.8783473e-01],\n",
       "       [2.2975706e-07, 1.0578671e-03, 1.0453884e-06, 3.2831706e-02,\n",
       "        2.1999698e-02, 9.4410944e-01],\n",
       "       [1.5054616e-07, 2.3362262e-03, 6.0045107e-07, 2.1833176e-02,\n",
       "        2.7556576e-02, 9.4827336e-01],\n",
       "       [2.7900620e-07, 1.0692060e-03, 1.5041633e-06, 4.2195540e-02,\n",
       "        3.3177119e-02, 9.2355627e-01],\n",
       "       [7.3404271e-07, 4.5049313e-04, 2.5025415e-06, 9.5619313e-02,\n",
       "        3.8305826e-02, 8.6562103e-01],\n",
       "       [4.3450871e-07, 7.0919521e-04, 1.8754984e-06, 7.4474327e-02,\n",
       "        2.8708979e-02, 8.9610517e-01],\n",
       "       [2.3491779e-07, 9.9105155e-04, 1.2328915e-06, 3.5421375e-02,\n",
       "        2.5824215e-02, 9.3776184e-01],\n",
       "       [3.0612171e-07, 1.3403066e-03, 1.6728565e-06, 3.9984342e-02,\n",
       "        3.1696789e-02, 9.2697662e-01],\n",
       "       [2.3223355e-07, 8.3382562e-04, 1.1471660e-06, 2.7682908e-02,\n",
       "        2.1392290e-02, 9.5008957e-01],\n",
       "       [2.6597996e-07, 1.7975804e-03, 1.0674261e-06, 2.9542226e-02,\n",
       "        2.8044490e-02, 9.4061440e-01]], dtype=float32)"
      ]
     },
     "execution_count": 14,
     "metadata": {},
     "output_type": "execute_result"
    }
   ],
   "source": [
    "pred = model.predict(test_data)\n",
    "pred"
   ]
  },
  {
   "cell_type": "code",
   "execution_count": 2,
   "metadata": {},
   "outputs": [
    {
     "name": "stdout",
     "output_type": "stream",
     "text": [
      "                Precision Recall  F1-Score  Support\n",
      "0        pain_1      0.65   0.55      0.60       10\n",
      "1        pain_2       0.6   0.65      0.62       15\n",
      "2        pain_3      0.55    0.6      0.57       13\n",
      "3        pain_4       0.7    0.5      0.58        8\n",
      "4        pain_5       0.5    0.7      0.58       12\n",
      "5      Accuracy                       0.60       58\n",
      "6     Macro Avg       0.6    0.6      0.59       58\n",
      "7  Weighted Avg      0.61   0.59      0.59       58\n"
     ]
    }
   ],
   "source": [
    "pred = np.argmax(pred, axis=1)\n",
    "print(classification_report(test_data.classes, pred))"
   ]
  }
 ],
 "metadata": {
  "kernelspec": {
   "display_name": "base",
   "language": "python",
   "name": "python3"
  },
  "language_info": {
   "codemirror_mode": {
    "name": "ipython",
    "version": 3
   },
   "file_extension": ".py",
   "mimetype": "text/x-python",
   "name": "python",
   "nbconvert_exporter": "python",
   "pygments_lexer": "ipython3",
   "version": "3.10.14"
  }
 },
 "nbformat": 4,
 "nbformat_minor": 2
}
