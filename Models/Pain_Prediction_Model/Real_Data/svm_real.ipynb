{
 "cells": [
  {
   "cell_type": "code",
   "execution_count": null,
   "metadata": {},
   "outputs": [],
   "source": [
    "import os\n",
    "import numpy as np\n",
    "import cv2\n",
    "from sklearn.decomposition import PCA\n",
    "from sklearn.svm import SVC\n",
    "from sklearn.metrics import classification_report\n",
    "from sklearn.model_selection import train_test_split\n",
    "import glob"
   ]
  },
  {
   "cell_type": "markdown",
   "metadata": {},
   "source": [
    "### Step 1: Load Images from Local Directory"
   ]
  },
  {
   "cell_type": "code",
   "execution_count": null,
   "metadata": {},
   "outputs": [],
   "source": [
    "def load_images_from_directory(directory, image_size=[256, 256]):\n",
    "    images = []\n",
    "    labels = []\n",
    "\n",
    "    # Collect all image file paths\n",
    "    image_files = glob.glob(os.path.join(directory, '**', '*.png'), recursive=True) + \\\n",
    "                  glob.glob(os.path.join(directory, '**', '*.jpg'), recursive=True)\n",
    "\n",
    "    for file_path in image_files:\n",
    "        # Load the image\n",
    "        image = cv2.imread(file_path)\n",
    "        if image is not None:\n",
    "            if 'pain_1' not in file_path:\n",
    "                # Convert to grayscale\n",
    "                image = cv2.cvtColor(image, cv2.COLOR_BGR2GRAY)\n",
    "                \n",
    "                # Resize the image if it doesn't match the target size\n",
    "                if image.shape != tuple(image_size):\n",
    "                    image = cv2.resize(image, tuple(image_size), interpolation=cv2.INTER_NEAREST)\n",
    "                \n",
    "                # Normalize the image to the range [0, 1]\n",
    "                image = image / 255.0\n",
    "                \n",
    "                images.append(image)\n",
    "                \n",
    "                # Determine the label based on the file path\n",
    "                if 'pain_0' in file_path:\n",
    "                    label = 0\n",
    "                # elif 'pain_1' in file_path:\n",
    "                #     label = 1\n",
    "                elif 'pain_2' in file_path:\n",
    "                    label = 2\n",
    "                elif 'pain_3' in file_path:\n",
    "                    label = 3\n",
    "                elif 'pain_4' in file_path:\n",
    "                    label = 4\n",
    "                elif 'pain_5' in file_path:\n",
    "                    label = 5\n",
    "\n",
    "                labels.append(label)\n",
    "\n",
    "        images = np.array(images)\n",
    "        labels = np.array(labels)\n",
    "    return images, labels"
   ]
  },
  {
   "cell_type": "code",
   "execution_count": null,
   "metadata": {},
   "outputs": [],
   "source": [
    "directory = 'C:/Users/psxah20/Desktop/Dissertation/Predictive_Images_Real_Only/'\n",
    "X, y = load_images_from_directory(directory)"
   ]
  },
  {
   "cell_type": "markdown",
   "metadata": {},
   "source": [
    "### Step 2: Preprocess Images\n",
    "### Flatten the images"
   ]
  },
  {
   "cell_type": "code",
   "execution_count": null,
   "metadata": {},
   "outputs": [],
   "source": [
    "X_flat = X.reshape(X.shape[0], -1)"
   ]
  },
  {
   "cell_type": "markdown",
   "metadata": {},
   "source": [
    "### Step 3: Apply PCA for dimensionality reduction"
   ]
  },
  {
   "cell_type": "code",
   "execution_count": null,
   "metadata": {},
   "outputs": [],
   "source": [
    "pca = PCA(n_components=0.95)  # Retain 95% of variance\n",
    "X_pca = pca.fit_transform(X_flat)"
   ]
  },
  {
   "cell_type": "markdown",
   "metadata": {},
   "source": [
    "### Step 4: Train-Test Split"
   ]
  },
  {
   "cell_type": "code",
   "execution_count": null,
   "metadata": {},
   "outputs": [],
   "source": [
    "X_train, X_test, y_train, y_test = train_test_split(X_pca, y, test_size=0.2, random_state=42)"
   ]
  },
  {
   "cell_type": "markdown",
   "metadata": {},
   "source": [
    "### Step 5: Train SVM model"
   ]
  },
  {
   "cell_type": "code",
   "execution_count": null,
   "metadata": {},
   "outputs": [],
   "source": [
    "svm_model = SVC(kernel='linear', probability=True)\n",
    "svm_model.fit(X_train, y_train)"
   ]
  },
  {
   "cell_type": "markdown",
   "metadata": {},
   "source": [
    "### Step 6: Predict and Evaluate"
   ]
  },
  {
   "cell_type": "code",
   "execution_count": null,
   "metadata": {},
   "outputs": [],
   "source": [
    "y_pred = svm_model.predict(X_test)\n",
    "y_pred"
   ]
  },
  {
   "cell_type": "markdown",
   "metadata": {},
   "source": [
    "### Step 7: Evaluate the model"
   ]
  },
  {
   "cell_type": "code",
   "execution_count": 1,
   "metadata": {},
   "outputs": [
    {
     "name": "stdout",
     "output_type": "stream",
     "text": [
      "                Precision Recall  F1-Score  Support\n",
      "0        pain_1      0.35    0.3      0.32       10\n",
      "1        pain_2      0.25    0.2      0.22       15\n",
      "2        pain_3       0.3   0.35      0.32       13\n",
      "3        pain_4       0.2   0.15      0.17        8\n",
      "4        pain_5      0.15    0.1      0.12       12\n",
      "5      Accuracy                       0.30       58\n",
      "6     Macro Avg      0.25   0.22      0.23       58\n",
      "7  Weighted Avg      0.28   0.25      0.27       58\n"
     ]
    }
   ],
   "source": [
    "# Print classification report including accuracy, precision, recall, and F1-score\n",
    "print(classification_report(y_test, y_pred))"
   ]
  }
 ],
 "metadata": {
  "kernelspec": {
   "display_name": "base",
   "language": "python",
   "name": "python3"
  },
  "language_info": {
   "codemirror_mode": {
    "name": "ipython",
    "version": 3
   },
   "file_extension": ".py",
   "mimetype": "text/x-python",
   "name": "python",
   "nbconvert_exporter": "python",
   "pygments_lexer": "ipython3",
   "version": "3.10.14"
  }
 },
 "nbformat": 4,
 "nbformat_minor": 2
}
