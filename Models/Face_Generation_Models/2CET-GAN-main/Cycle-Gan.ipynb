{
 "cells": [
  {
   "cell_type": "code",
   "execution_count": 2,
   "metadata": {},
   "outputs": [],
   "source": [
    "import torch\n",
    "import Model, Utils\n",
    "from evaluation import Evaluation\n",
    "from DataLoader import create_sample_getter\n",
    "from Model import *\n",
    "from Utils import *\n",
    "from Train import *\n",
    "from Logger import Logger"
   ]
  },
  {
   "cell_type": "code",
   "execution_count": 3,
   "metadata": {},
   "outputs": [
    {
     "name": "stdout",
     "output_type": "stream",
     "text": [
      "Log to D:/MS/Dissertation/Output_results/2CET-GAN/logs/train.log.\n",
      "Log to D:/MS/Dissertation/Output_results/2CET-GAN/logs/eval.log.\n"
     ]
    }
   ],
   "source": [
    "class Config:\n",
    "    def __init__(self, mode='train', \n",
    "                 test=False, \n",
    "                 train_dir='D:/MS/Dissertation/Output_results/2CET-GAN/train',\n",
    "                 test_dir='D:/MS/Dissertation/Output_results/2CET-GAN/test',\n",
    "                 output_dir='D:/MS/Dissertation/Output_results/2CET-GAN/output',\n",
    "                 models_dir='D:/MS/Dissertation/Output_results/2CET-GAN/models',\n",
    "                 eval_dir='D:/MS/Dissertation/Output_results/2CET-GAN/eval',\n",
    "                 eval_model_step=0,\n",
    "                 eval_generate_data=True,\n",
    "                 resume_iter=65000,\n",
    "                 total_iter=600000,\n",
    "                 log_dir='D:/MS/Dissertation/Output_results/2CET-GAN/logs',\n",
    "                 output_every=30,\n",
    "                 save_every=500):\n",
    "        \n",
    "        # Default configuration values\n",
    "        self.mode = mode\n",
    "        self.test = test\n",
    "        self.train_dir = train_dir\n",
    "        self.test_dir = test_dir\n",
    "        self.output_dir = output_dir\n",
    "        self.models_dir = models_dir\n",
    "        self.eval_dir = eval_dir\n",
    "        self.eval_model_step = eval_model_step\n",
    "        self.eval_generate_data = eval_generate_data\n",
    "        self.batch_size = 8\n",
    "        self.test_batch_size = 4\n",
    "        self.resume_iter = resume_iter\n",
    "        self.total_iter = total_iter\n",
    "        self.img_size = 128\n",
    "        self.code_dim = 32\n",
    "        self.code_distribution = 'uniform'\n",
    "        self.code_range = [-0.5, 0.5]\n",
    "        self.to_grey = False\n",
    "        self.encoder_grey = True\n",
    "        self.lr = 0.0001\n",
    "        self.lr_e = 0.000001\n",
    "        self.lambda_adv_n = 1.0\n",
    "        self.lambda_adv_e = 1.0\n",
    "        self.lambda_reg = 1.0\n",
    "        self.lambda_cyc_e_config = '1,2,0.5,0.1'\n",
    "        self.lambda_ds_e_config = '1,2,0.5,0.1'\n",
    "        self.lambda_c_e_config = '1,2,0.5,0.1'\n",
    "        self.proportional_ds_e = True\n",
    "        self.lambda_c = 1.0\n",
    "        self.lambda_cyc_n = 1.0\n",
    "        self.log_every = 10\n",
    "        self.log_out = \"stdout,file\"\n",
    "        self.log_dir = log_dir\n",
    "        self.output_every = output_every\n",
    "        self.save_every = save_every\n",
    "\n",
    "        # Derived attributes\n",
    "        self.beta1 = 0.0\n",
    "        self.beta2 = 0.99\n",
    "        self.weight_decay = 1e-4\n",
    "        self.code_min = self.code_range[0]\n",
    "        self.code_max = self.code_range[1]\n",
    "        self.code_diff_exp_fraction = 3 / (self.code_max - self.code_min)\n",
    "        self.img_dim = 1 if self.to_grey else 3\n",
    "        self.num_domains = 2\n",
    "        self.logger = Logger(self.log_out.split(','), self.log_dir, \"train.log\")\n",
    "        self.logger_eval = Logger(self.log_out.split(','), self.log_dir, \"eval.log\")\n",
    "        self.device = torch.device('cuda')\n",
    "        self.gpu_ids = []\n",
    "        \n",
    "    def setup_device(self):\n",
    "        # Here we assume no GPUs are available\n",
    "        self.device = torch.device('cuda')\n",
    "        self.gpu_ids = [0]\n",
    "\n",
    "# Instantiate Config and set up logging and device\n",
    "config = Config()\n",
    "config.setup_device()"
   ]
  },
  {
   "cell_type": "code",
   "execution_count": 4,
   "metadata": {},
   "outputs": [],
   "source": [
    "# train(config)"
   ]
  },
  {
   "cell_type": "code",
   "execution_count": 1,
   "metadata": {},
   "outputs": [
    {
     "name": "stdout",
     "output_type": "stream",
     "text": [
      "Microsoft Windows [Version 10.0.22631.4112]\n",
      "(c) Microsoft Corporation. All rights reserved.\n"
     ]
    },
    {
     "name": "stdout",
     "output_type": "stream",
     "text": [
      "\n",
      "(torch2) d:\\MS\\Dissertation\\Models\\Face_Generation_Models\\2CET-GAN-main>conda activate torch2\n",
      "\n",
      "(torch2) d:\\MS\\Dissertation\\Models\\Face_Generation_Models\\2CET-GAN-main>python main.py --mode eval --eval_dir D:/MS/Dissertation/Output_results/2CET-GAN/eval --eval_model_step 550000 --img_size 128 --code_dim 32 --encoder_grey True --train_dir D:/MS/Dissertation/Output_results/2CET-GAN/train --test_dir D:/MS/Dissertation/Output_results/2CET-GAN/test --batch_size 8 --output_dir D:/MS/Dissertation/Output_results/2CET-GAN/output --models_dir D:/MS/Dissertation/Output_results/2CET-GAN/models\n",
      "Log to ./train.log.\n",
      "Log to ./eval.log.\n",
      "GPUs:\n",
      "  0: NVIDIA GeForce GTX 1050 Ti\n",
      "Loading model from D:/MS/Dissertation/Output_results/2CET-GAN/models\\550000_model_s.ckpt\n"
     ]
    },
    {
     "name": "stderr",
     "output_type": "stream",
     "text": [
      "d:\\MS\\Dissertation\\Models\\Face_Generation_Models\\2CET-GAN-main\\Utils.py:389: FutureWarning: You are using `torch.load` with `weights_only=False` (the current default value), which uses the default pickle module implicitly. It is possible to construct malicious pickle data which will execute arbitrary code during unpickling (See https://github.com/pytorch/pytorch/blob/main/SECURITY.md#untrusted-models for more details). In a future release, the default value for `weights_only` will be flipped to `True`. This limits the functions that could be executed during unpickling. Arbitrary objects will no longer be allowed to be loaded via this mode unless they are explicitly allowlisted by the user via `torch.serialization.add_safe_globals`. We recommend you start setting `weights_only=True` for any use case where you don't have full control of the loaded file. Please open an issue on GitHub for any issues related to this experimental feature.\n",
      "  module_dict = torch.load(fname, map_location=config.device)\n"
     ]
    },
    {
     "name": "stdout",
     "output_type": "stream",
     "text": [
      "Loading model [model_s.generator]...\n",
      "Loading model [model_s.encoder]...\n",
      "generate_eval_n:\n",
      "43 D:/MS/Dissertation/Output_results/2CET-GAN/eval/test/a_n 43\n"
     ]
    },
    {
     "name": "stderr",
     "output_type": "stream",
     "text": [
      "100%|██████████| 43/43 [00:10<00:00,  4.06it/s]\n"
     ]
    },
    {
     "name": "stdout",
     "output_type": "stream",
     "text": [
      "generate_eval_e_z:\n"
     ]
    },
    {
     "name": "stderr",
     "output_type": "stream",
     "text": [
      "100%|██████████| 48/48 [00:05<00:00,  8.14it/s]\n"
     ]
    },
    {
     "name": "stdout",
     "output_type": "stream",
     "text": [
      "Number of emotional classes: 6\n",
      "generate_eval_e_r:\n"
     ]
    },
    {
     "name": "stderr",
     "output_type": "stream",
     "text": [
      "100%|██████████| 108/108 [00:14<00:00,  7.39it/s]\n"
     ]
    },
    {
     "name": "stdout",
     "output_type": "stream",
     "text": [
      "generate_eval(D:/MS/Dissertation/Output_results/2CET-GAN/test) all done!\n",
      "generate_eval_n:\n",
      "562 D:/MS/Dissertation/Output_results/2CET-GAN/eval/train/a_n 562\n"
     ]
    },
    {
     "name": "stderr",
     "output_type": "stream",
     "text": [
      "100%|██████████| 562/562 [01:18<00:00,  7.20it/s]\n"
     ]
    },
    {
     "name": "stdout",
     "output_type": "stream",
     "text": [
      "generate_eval_e_z:\n"
     ]
    },
    {
     "name": "stderr",
     "output_type": "stream",
     "text": [
      "100%|██████████| 621/621 [01:29<00:00,  6.91it/s]\n"
     ]
    },
    {
     "name": "stdout",
     "output_type": "stream",
     "text": [
      "Number of emotional classes: 6\n",
      "generate_eval_e_r:\n"
     ]
    },
    {
     "name": "stderr",
     "output_type": "stream",
     "text": [
      "100%|██████████| 3726/3726 [08:42<00:00,  7.14it/s]\n"
     ]
    },
    {
     "name": "stdout",
     "output_type": "stream",
     "text": [
      "generate_eval(D:/MS/Dissertation/Output_results/2CET-GAN/train) all done!\n",
      "calculate_fid_by_dir. dir1:D:/MS/Dissertation/Output_results/2CET-GAN/test/a_n, dir2:D:/MS/Dissertation/Output_results/2CET-GAN/eval/test/a_n\n"
     ]
    },
    {
     "name": "stderr",
     "output_type": "stream",
     "text": [
      "D:\\Software\\Anaconda\\envs\\torch2\\lib\\site-packages\\torchvision\\models\\_utils.py:208: UserWarning: The parameter 'pretrained' is deprecated since 0.13 and may be removed in the future, please use 'weights' instead.\n",
      "  warnings.warn(\n",
      "D:\\Software\\Anaconda\\envs\\torch2\\lib\\site-packages\\torchvision\\models\\_utils.py:223: UserWarning: Arguments other than a weight enum or `None` for 'weights' are deprecated since 0.13 and may be removed in the future. The current behavior is equivalent to passing `weights=Inception_V3_Weights.IMAGENET1K_V1`. You can also use `weights=Inception_V3_Weights.DEFAULT` to get the most up-to-date weights.\n",
      "  warnings.warn(msg)\n",
      "100%|██████████| 1/1 [00:29<00:00, 29.90s/it]\n",
      "100%|██████████| 1/1 [00:30<00:00, 30.12s/it]\n"
     ]
    },
    {
     "name": "stdout",
     "output_type": "stream",
     "text": [
      "calculate_fid_by_dir. dir1:D:/MS/Dissertation/Output_results/2CET-GAN/test/b_e, dir2:D:/MS/Dissertation/Output_results/2CET-GAN/eval/test/b_e_z\n"
     ]
    },
    {
     "name": "stderr",
     "output_type": "stream",
     "text": [
      "100%|██████████| 1/1 [00:26<00:00, 26.29s/it]\n",
      "100%|██████████| 1/1 [00:21<00:00, 21.55s/it]\n"
     ]
    },
    {
     "name": "stdout",
     "output_type": "stream",
     "text": [
      "calculate_fid_by_dir. dir1:D:/MS/Dissertation/Output_results/2CET-GAN/test/b_e, dir2:D:/MS/Dissertation/Output_results/2CET-GAN/eval/test/b_e_r\n"
     ]
    },
    {
     "name": "stderr",
     "output_type": "stream",
     "text": [
      "100%|██████████| 1/1 [00:20<00:00, 20.02s/it]\n",
      "100%|██████████| 3/3 [00:54<00:00, 18.16s/it]\n"
     ]
    },
    {
     "name": "stdout",
     "output_type": "stream",
     "text": [
      "calculate_fid_by_dir. dir1:D:/MS/Dissertation/Output_results/2CET-GAN/train/a_n, dir2:D:/MS/Dissertation/Output_results/2CET-GAN/eval/train/a_n\n"
     ]
    },
    {
     "name": "stderr",
     "output_type": "stream",
     "text": [
      "100%|██████████| 5/5 [00:55<00:00, 11.13s/it]\n",
      "100%|██████████| 12/12 [00:53<00:00,  4.47s/it]\n"
     ]
    },
    {
     "name": "stdout",
     "output_type": "stream",
     "text": [
      "calculate_fid_by_dir. dir1:D:/MS/Dissertation/Output_results/2CET-GAN/train/b_e, dir2:D:/MS/Dissertation/Output_results/2CET-GAN/eval/train/b_e_z\n"
     ]
    },
    {
     "name": "stderr",
     "output_type": "stream",
     "text": [
      "100%|██████████| 12/12 [01:02<00:00,  5.23s/it]\n",
      "100%|██████████| 13/13 [00:46<00:00,  3.60s/it]\n"
     ]
    },
    {
     "name": "stdout",
     "output_type": "stream",
     "text": [
      "calculate_fid_by_dir. dir1:D:/MS/Dissertation/Output_results/2CET-GAN/train/b_e, dir2:D:/MS/Dissertation/Output_results/2CET-GAN/eval/train/b_e_r\n"
     ]
    },
    {
     "name": "stderr",
     "output_type": "stream",
     "text": [
      "100%|██████████| 12/12 [00:54<00:00,  4.53s/it]\n",
      "100%|██████████| 75/75 [01:24<00:00,  1.13s/it]\n"
     ]
    },
    {
     "name": "stdout",
     "output_type": "stream",
     "text": [
      "calculate_fid_by_cls. dir1:D:/MS/Dissertation/Output_results/2CET-GAN/train/b_e, dir2:D:/MS/Dissertation/Output_results/2CET-GAN/eval/train/b_e_r\n",
      "Calculate class [class2].\n"
     ]
    },
    {
     "name": "stderr",
     "output_type": "stream",
     "text": [
      "100%|██████████| 1/1 [00:30<00:00, 30.89s/it]\n",
      "100%|██████████| 13/13 [00:55<00:00,  4.30s/it]\n"
     ]
    },
    {
     "name": "stdout",
     "output_type": "stream",
     "text": [
      "Calculate class [class3].\n"
     ]
    },
    {
     "name": "stderr",
     "output_type": "stream",
     "text": [
      "100%|██████████| 3/3 [00:46<00:00, 15.53s/it]\n",
      "100%|██████████| 13/13 [00:46<00:00,  3.61s/it]\n"
     ]
    },
    {
     "name": "stdout",
     "output_type": "stream",
     "text": [
      "Calculate class [class4].\n"
     ]
    },
    {
     "name": "stderr",
     "output_type": "stream",
     "text": [
      "100%|██████████| 3/3 [00:23<00:00,  7.73s/it]\n",
      "100%|██████████| 13/13 [00:45<00:00,  3.47s/it]\n"
     ]
    },
    {
     "name": "stdout",
     "output_type": "stream",
     "text": [
      "Calculate class [class5].\n"
     ]
    },
    {
     "name": "stderr",
     "output_type": "stream",
     "text": [
      "100%|██████████| 3/3 [00:22<00:00,  7.55s/it]\n",
      "100%|██████████| 13/13 [00:48<00:00,  3.73s/it]\n"
     ]
    },
    {
     "name": "stdout",
     "output_type": "stream",
     "text": [
      "Calculate class [class6].\n"
     ]
    },
    {
     "name": "stderr",
     "output_type": "stream",
     "text": [
      "100%|██████████| 3/3 [00:25<00:00,  8.50s/it]\n",
      "100%|██████████| 13/13 [00:44<00:00,  3.39s/it]\n"
     ]
    },
    {
     "name": "stdout",
     "output_type": "stream",
     "text": [
      "Calculate class [class7].\n"
     ]
    },
    {
     "name": "stderr",
     "output_type": "stream",
     "text": [
      "100%|██████████| 2/2 [00:27<00:00, 13.74s/it]\n",
      "100%|██████████| 13/13 [00:56<00:00,  4.38s/it]\n"
     ]
    },
    {
     "name": "stdout",
     "output_type": "stream",
     "text": [
      "evaluate_encoder() e_dir:D:/MS/Dissertation/Output_results/2CET-GAN/test/b_e\n",
      "Start to calculate class [class2].\n",
      "Start to calculate class [class3].\n",
      "Start to calculate class [class4].\n",
      "Start to calculate class [class5].\n",
      "Start to calculate class [class6].\n",
      "Start to calculate class [class7].\n",
      "evaluate_encoder() e_dir:D:/MS/Dissertation/Output_results/2CET-GAN/train/b_e\n",
      "Start to calculate class [class2].\n",
      "Start to calculate class [class3].\n",
      "Start to calculate class [class4].\n",
      "Start to calculate class [class5].\n",
      "Start to calculate class [class6].\n",
      "Start to calculate class [class7].\n"
     ]
    },
    {
     "name": "stderr",
     "output_type": "stream",
     "text": [
      "100%|██████████| 1/1 [00:29<00:00, 29.08s/it]\n",
      "100%|██████████| 1/1 [00:28<00:00, 28.95s/it]\n",
      "100%|██████████| 1/1 [00:24<00:00, 24.09s/it]\n",
      "100%|██████████| 3/3 [01:00<00:00, 20.17s/it]\n",
      "100%|██████████| 1/1 [00:30<00:00, 30.54s/it]\n",
      "100%|██████████| 5/5 [01:12<00:00, 14.58s/it]\n",
      "100%|██████████| 12/12 [01:37<00:00,  8.15s/it]\n",
      "100%|██████████| 12/12 [01:31<00:00,  7.60s/it]\n",
      "100%|██████████| 75/75 [06:12<00:00,  4.97s/it] \n",
      "100%|██████████| 13/13 [02:17<00:00, 10.59s/it]\n"
     ]
    },
    {
     "name": "stdout",
     "output_type": "stream",
     "text": [
      "[29/08/2024 13:11:02] \n",
      "------------------------------------------------------------------------\n",
      "REPORT\n",
      "FID--------------------------------\n",
      "FID on test dataset: fid_n=114.3, fid_e_z=96.0, fid_e_r=106.7\n",
      "FID on train dataset: fid_n=10.9, fid_e_z=14.1, fid_e_r=19.0\n",
      "FID on train dataset by class:\n",
      "  Class:class2, fid:99.8\n",
      "  Class:class3, fid:25.6\n",
      "  Class:class4, fid:32.3\n",
      "  Class:class5, fid:27.9\n",
      "  Class:class6, fid:31.3\n",
      "  Class:class7, fid:34.9\n",
      "  Class:avg, fid:42.0\n",
      "\n",
      "Encoder--------------------------------\n",
      "Encoder on test dataset:\n",
      "  Class:class2, std between code: 0.00000, std in code: 0.00378, mean:-0.00062\n",
      "  Class:class3, std between code: 0.00000, std in code: 0.00378, mean:-0.00062\n",
      "  Class:class4, std between code: 0.00000, std in code: 0.00378, mean:-0.00062\n",
      "  Class:class5, std between code: 0.00000, std in code: 0.00378, mean:-0.00062\n",
      "  Class:class6, std between code: 0.00000, std in code: 0.00378, mean:-0.00062\n",
      "  Class:class7, std between code: 0.00000, std in code: 0.00378, mean:-0.00062\n",
      "  Class:all, std between code: 0.00000, std in code: 0.00378, mean:-0.00062\n",
      "Encoder on train dataset:\n",
      "  Class:class2, std between code: 0.00000, std in code: 0.00378, mean:-0.00062\n",
      "  Class:class3, std between code: 0.00000, std in code: 0.00378, mean:-0.00062\n",
      "  Class:class4, std between code: 0.00000, std in code: 0.00378, mean:-0.00062\n",
      "  Class:class5, std between code: 0.00000, std in code: 0.00378, mean:-0.00062\n",
      "  Class:class6, std between code: 0.00000, std in code: 0.00378, mean:-0.00062\n",
      "  Class:class7, std between code: 0.00000, std in code: 0.00378, mean:-0.00062\n",
      "  Class:all, std between code: 0.00000, std in code: 0.00378, mean:-0.00062\n",
      "\n",
      "IS--------------------------------\n",
      "is_test_n_mean:2.07, is_test_n_is_std:0.00\n",
      "is_test_e_mean:1.99, is_test_e_is_std:0.00\n",
      "is_eval_test_n_mean:2.00, is_eval_test_n_is_std:0.00\n",
      "is_eval_test_e_r_mean:1.36, is_eval_test_e_r_is_std:0.03\n",
      "is_eval_test_e_z_mean:1.49, is_eval_test_e_z_is_std:0.00\n",
      "\n",
      "is_train_n_mean:1.87, is_train_n_is_std:0.20\n",
      "is_train_e_mean:2.00, is_train_e_is_std:0.16\n",
      "is_eval_train_n_mean:1.82, is_eval_train_n_is_std:0.13\n",
      "is_eval_train_e_r_mean:1.85, is_eval_train_e_r_is_std:0.14\n",
      "is_eval_train_e_z_mean:1.98, is_eval_train_e_z_is_std:0.14\n",
      "\n",
      "(torch2) d:\\MS\\Dissertation\\Models\\Face_Generation_Models\\2CET-GAN-main>"
     ]
    }
   ],
   "source": [
    "%%cmd\n",
    "conda activate torch2\n",
    "python main.py --mode eval --eval_dir D:/MS/Dissertation/Output_results/2CET-GAN/eval --eval_model_step 550000 --img_size 128 --code_dim 32 --encoder_grey True --train_dir D:/MS/Dissertation/Output_results/2CET-GAN/train --test_dir D:/MS/Dissertation/Output_results/2CET-GAN/test --batch_size 8 --output_dir D:/MS/Dissertation/Output_results/2CET-GAN/output --models_dir D:/MS/Dissertation/Output_results/2CET-GAN/models"
   ]
  }
 ],
 "metadata": {
  "kernelspec": {
   "display_name": "face_env",
   "language": "python",
   "name": "python3"
  },
  "language_info": {
   "codemirror_mode": {
    "name": "ipython",
    "version": 3
   },
   "file_extension": ".py",
   "mimetype": "text/x-python",
   "name": "python",
   "nbconvert_exporter": "python",
   "pygments_lexer": "ipython3",
   "version": "3.10.14"
  }
 },
 "nbformat": 4,
 "nbformat_minor": 2
}
